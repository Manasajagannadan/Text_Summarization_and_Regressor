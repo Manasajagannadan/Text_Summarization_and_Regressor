{
  "nbformat": 4,
  "nbformat_minor": 0,
  "metadata": {
    "colab": {
      "name": "work_company2.ipynb",
      "provenance": [],
      "collapsed_sections": []
    },
    "kernelspec": {
      "name": "python3",
      "display_name": "Python 3"
    }
  },
  "cells": [
    {
      "cell_type": "code",
      "metadata": {
        "id": "NUlJnXccH6k7",
        "colab_type": "code",
        "outputId": "528633a0-062f-42a8-f9bc-ac3a04678352",
        "colab": {
          "base_uri": "https://localhost:8080/",
          "height": 122
        }
      },
      "source": [
        "from google.colab import drive\n",
        "drive.mount('/content/drive')"
      ],
      "execution_count": 0,
      "outputs": [
        {
          "output_type": "stream",
          "text": [
            "Go to this URL in a browser: https://accounts.google.com/o/oauth2/auth?client_id=947318989803-6bn6qk8qdgf4n4g3pfee6491hc0brc4i.apps.googleusercontent.com&redirect_uri=urn%3aietf%3awg%3aoauth%3a2.0%3aoob&response_type=code&scope=email%20https%3a%2f%2fwww.googleapis.com%2fauth%2fdocs.test%20https%3a%2f%2fwww.googleapis.com%2fauth%2fdrive%20https%3a%2f%2fwww.googleapis.com%2fauth%2fdrive.photos.readonly%20https%3a%2f%2fwww.googleapis.com%2fauth%2fpeopleapi.readonly\n",
            "\n",
            "Enter your authorization code:\n",
            "··········\n",
            "Mounted at /content/drive\n"
          ],
          "name": "stdout"
        }
      ]
    },
    {
      "cell_type": "code",
      "metadata": {
        "id": "ERifsj0zIjBe",
        "colab_type": "code",
        "outputId": "6a638744-8600-4687-adac-2abe3c4615a1",
        "colab": {
          "base_uri": "https://localhost:8080/",
          "height": 360
        }
      },
      "source": [
        "!pip install PyPDF2\n",
        "!pip install docx2txt"
      ],
      "execution_count": 0,
      "outputs": [
        {
          "output_type": "stream",
          "text": [
            "Collecting PyPDF2\n",
            "\u001b[?25l  Downloading https://files.pythonhosted.org/packages/b4/01/68fcc0d43daf4c6bdbc6b33cc3f77bda531c86b174cac56ef0ffdb96faab/PyPDF2-1.26.0.tar.gz (77kB)\n",
            "\u001b[K     |████████████████████████████████| 81kB 2.4MB/s \n",
            "\u001b[?25hBuilding wheels for collected packages: PyPDF2\n",
            "  Building wheel for PyPDF2 (setup.py) ... \u001b[?25l\u001b[?25hdone\n",
            "  Created wheel for PyPDF2: filename=PyPDF2-1.26.0-cp36-none-any.whl size=61085 sha256=a5cf8bb9706d5fb8f47c3d7a17c592ae304ec638fb9ae85a9430085ff61fcb70\n",
            "  Stored in directory: /root/.cache/pip/wheels/53/84/19/35bc977c8bf5f0c23a8a011aa958acd4da4bbd7a229315c1b7\n",
            "Successfully built PyPDF2\n",
            "Installing collected packages: PyPDF2\n",
            "Successfully installed PyPDF2-1.26.0\n",
            "Collecting docx2txt\n",
            "  Downloading https://files.pythonhosted.org/packages/7d/7d/60ee3f2b16d9bfdfa72e8599470a2c1a5b759cb113c6fe1006be28359327/docx2txt-0.8.tar.gz\n",
            "Building wheels for collected packages: docx2txt\n",
            "  Building wheel for docx2txt (setup.py) ... \u001b[?25l\u001b[?25hdone\n",
            "  Created wheel for docx2txt: filename=docx2txt-0.8-cp36-none-any.whl size=3965 sha256=43debc24bc712f544fc23290aa5194d1973f7641e927fc31dda111de1f9dbff3\n",
            "  Stored in directory: /root/.cache/pip/wheels/b2/1f/26/a051209bbb77fc6bcfae2bb7e01fa0ff941b82292ab084d596\n",
            "Successfully built docx2txt\n",
            "Installing collected packages: docx2txt\n",
            "Successfully installed docx2txt-0.8\n"
          ],
          "name": "stdout"
        }
      ]
    },
    {
      "cell_type": "code",
      "metadata": {
        "id": "zQrxiqLNIC6z",
        "colab_type": "code",
        "colab": {}
      },
      "source": [
        "import numpy as np\n",
        "import PyPDF2\n",
        "import docx2txt\n",
        "import sys"
      ],
      "execution_count": 0,
      "outputs": []
    },
    {
      "cell_type": "code",
      "metadata": {
        "id": "h2VuSkBCIC9x",
        "colab_type": "code",
        "colab": {}
      },
      "source": [
        "import matplotlib.pyplot as plt\n",
        "%matplotlib inline"
      ],
      "execution_count": 0,
      "outputs": []
    },
    {
      "cell_type": "code",
      "metadata": {
        "id": "B-nSVEW4IDFm",
        "colab_type": "code",
        "colab": {}
      },
      "source": [
        "import networkx as nx"
      ],
      "execution_count": 0,
      "outputs": []
    },
    {
      "cell_type": "code",
      "metadata": {
        "id": "BL0WS9m6IDI6",
        "colab_type": "code",
        "colab": {}
      },
      "source": [
        "from nltk.tokenize.punkt import PunktSentenceTokenizer\n",
        "from sklearn.feature_extraction.text import TfidfTransformer, CountVectorizer"
      ],
      "execution_count": 0,
      "outputs": []
    },
    {
      "cell_type": "code",
      "metadata": {
        "id": "S17pm3xeIDD6",
        "colab_type": "code",
        "colab": {}
      },
      "source": [
        "def readDoc():\n",
        "    name = '/content/drive/My Drive/work/Tender_uco_rfp_general_02_19_20_9f84e770f3.pdf'\n",
        "    print('You have asked for the document {}'.format(name))\n",
        "    if name.lower().endswith('.txt'):\n",
        "        choice = 1\n",
        "    elif name.lower().endswith('.pdf'):\n",
        "        choice = 2\n",
        "    else:\n",
        "        choice = 3\n",
        "    print(choice)   \n",
        "    if choice == 1:\n",
        "        f = open(name, 'r')\n",
        "        document = f.read()\n",
        "        f.close()\n",
        "    elif choice == 2:\n",
        "        pdfFileObj = open(name, 'rb')\n",
        "        pdfReader = PyPDF2.PdfFileReader(pdfFileObj)\n",
        "        pageObj = pdfReader.getPage(0)\n",
        "        document = pageObj.extractText()\n",
        "        pdfFileObj.close()\n",
        "    else:\n",
        "        print('Failed to load a valid file')\n",
        "        print('Returning an empty string')\n",
        "        document = ''\n",
        "    \n",
        "    print(type(document))\n",
        "    return document"
      ],
      "execution_count": 0,
      "outputs": []
    },
    {
      "cell_type": "code",
      "metadata": {
        "id": "o99gQ3otPpvg",
        "colab_type": "code",
        "outputId": "c2440de2-3d13-474f-f923-dc3925f1acbd",
        "colab": {
          "base_uri": "https://localhost:8080/",
          "height": 85
        }
      },
      "source": [
        "document = readDoc()\n",
        "print('The length of the file is:', end=' ')\n",
        "print(len(document))"
      ],
      "execution_count": 0,
      "outputs": [
        {
          "output_type": "stream",
          "text": [
            "You have asked for the document /content/drive/My Drive/work/Tender_uco_rfp_general_02_19_20_9f84e770f3.pdf\n",
            "2\n",
            "<class 'str'>\n",
            "The length of the file is: 962\n"
          ],
          "name": "stdout"
        }
      ]
    },
    {
      "cell_type": "code",
      "metadata": {
        "id": "kec0mj6ML730",
        "colab_type": "code",
        "colab": {}
      },
      "source": [
        "def tokenize(document):\n",
        "    doc_tokenizer = PunktSentenceTokenizer()\n",
        "    sentences_list = doc_tokenizer.tokenize(document)\n",
        "    return sentences_list"
      ],
      "execution_count": 0,
      "outputs": []
    },
    {
      "cell_type": "code",
      "metadata": {
        "id": "jr22g0ZAMnGk",
        "colab_type": "code",
        "outputId": "13c83975-c837-468e-eca7-6f9c0d75605b",
        "colab": {
          "base_uri": "https://localhost:8080/",
          "height": 51
        }
      },
      "source": [
        "sentences_list = tokenize(document)\n",
        "print('The size of the list in Bytes is: {}'.format(sys.getsizeof(sentences_list)))\n",
        "print('The size of the item 0 in Bytes is: {}'.format(sys.getsizeof(sentences_list[0])))"
      ],
      "execution_count": 0,
      "outputs": [
        {
          "output_type": "stream",
          "text": [
            "The size of the list in Bytes is: 128\n",
            "The size of the item 0 in Bytes is: 393\n"
          ],
          "name": "stdout"
        }
      ]
    },
    {
      "cell_type": "code",
      "metadata": {
        "id": "o8KnmzeVMqw4",
        "colab_type": "code",
        "outputId": "89135df7-2015-4bc1-c6d8-ffa2b9e1c436",
        "colab": {
          "base_uri": "https://localhost:8080/",
          "height": 34
        }
      },
      "source": [
        "print(type(sentences_list))"
      ],
      "execution_count": 0,
      "outputs": [
        {
          "output_type": "stream",
          "text": [
            "<class 'list'>\n"
          ],
          "name": "stdout"
        }
      ]
    },
    {
      "cell_type": "code",
      "metadata": {
        "id": "bTuTMdzSQcKU",
        "colab_type": "code",
        "outputId": "4cb7eb8d-5869-4397-b2b9-6e3d37d51796",
        "colab": {
          "base_uri": "https://localhost:8080/",
          "height": 34
        }
      },
      "source": [
        "print('The size of the list \"sentences\" is: {}'.format(len(sentences_list)))"
      ],
      "execution_count": 0,
      "outputs": [
        {
          "output_type": "stream",
          "text": [
            "The size of the list \"sentences\" is: 5\n"
          ],
          "name": "stdout"
        }
      ]
    },
    {
      "cell_type": "code",
      "metadata": {
        "id": "lQxT5l5PQcIr",
        "colab_type": "code",
        "outputId": "902ea543-d5cf-48c6-f630-0d7b3b5dfa4e",
        "colab": {
          "base_uri": "https://localhost:8080/",
          "height": 1000
        }
      },
      "source": [
        "for i in sentences_list:\n",
        "    print(i)"
      ],
      "execution_count": 0,
      "outputs": [
        {
          "output_type": "stream",
          "text": [
            "1\n",
            " \n",
            " \n",
            " \n",
            " \n",
            " \n",
            " \n",
            " \n",
            " \n",
            "Request for Proposal (RFP)\n",
            " \n",
            "for\n",
            " \n",
            "Corporate Agency Arrangement for\n",
            " \n",
            "General Insurance Business\n",
            " \n",
            " \n",
            "Reference Number\n",
            " \n",
            ":   UCO/IMW/RFP/02/2019\n",
            "-\n",
            "20\n",
            " \n",
            " \n",
            "Dated\n",
            " \n",
            ":    \n",
            "1\n",
            "8\n",
            "/\n",
            "09\n",
            "/2019\n",
            " \n",
            " \n",
            " \n",
            "The information provided by the Bidders in response to this RFP Document will become \n",
            "the\n",
            " \n",
            "property of the Bank and will not be returned.\n",
            "The Bank reserves the right to amend, \n",
            "rescind, reissue this RFP Document and all amendments will be advised to the \n",
            "\n",
            "The Bank al\n",
            "so reserves its right to accept or reject any or all the responses to this RFP \n",
            "Document without assigning any reason whatsoever and without any cost and \n",
            "compensation thereof.\n",
            "This document is prepared by UCO Bank for Implementation of Corporate Agency \n",
            "Arr\n",
            "angement for \n",
            "General\n",
            " \n",
            "Insurance Business.\n",
            "It should not be reused or copied or used \n",
            "either partially or fully in any form.\n",
            "UCO BANK\n",
            " \n",
            "HEAD OFFICE: 10, B T M Sarani, Kolkata \n",
            "\n",
            " \n",
            "700 001\n",
            " \n",
            "(State \n",
            "-\n",
            " \n",
            "West Bengal)\n"
          ],
          "name": "stdout"
        }
      ]
    },
    {
      "cell_type": "code",
      "metadata": {
        "id": "MfgDwUYTRZzZ",
        "colab_type": "code",
        "colab": {}
      },
      "source": [
        "cv = CountVectorizer()\n",
        "cv_matrix = cv.fit_transform(sentences_list)"
      ],
      "execution_count": 0,
      "outputs": []
    },
    {
      "cell_type": "code",
      "metadata": {
        "id": "ihVvw2dZRZxX",
        "colab_type": "code",
        "outputId": "b05bce9a-fe85-484c-af3c-e6b0566631d3",
        "colab": {
          "base_uri": "https://localhost:8080/",
          "height": 68
        }
      },
      "source": [
        "cv_demo = CountVectorizer() \n",
        "text_demo = [\"Ashish is good, you are bad\", \"I am not bad\"] \n",
        "res_demo = cv_demo.fit_transform(text_demo)\n",
        "print('Result demo array is {}'.format(res_demo.toarray()))\n",
        "print('Feature list: {}'.format(cv_demo.get_feature_names()))"
      ],
      "execution_count": 0,
      "outputs": [
        {
          "output_type": "stream",
          "text": [
            "Result demo array is [[0 1 1 1 1 1 0 1]\n",
            " [1 0 0 1 0 0 1 0]]\n",
            "Feature list: ['am', 'are', 'ashish', 'bad', 'good', 'is', 'not', 'you']\n"
          ],
          "name": "stdout"
        }
      ]
    },
    {
      "cell_type": "code",
      "metadata": {
        "id": "JIuFZ-jaRZu1",
        "colab_type": "code",
        "outputId": "c539b57e-7fc8-44ce-a373-6a2a430aae53",
        "colab": {
          "base_uri": "https://localhost:8080/",
          "height": 377
        }
      },
      "source": [
        "print('The data type of bow matrix {}'.format(type(cv_matrix)))\n",
        "print('Shape of the matrix {}'.format(cv_matrix.get_shape))\n",
        "print('Size of the matrix is: {}'.format(sys.getsizeof(cv_matrix)))\n",
        "print(cv.get_feature_names())\n",
        "print(cv_matrix.toarray())"
      ],
      "execution_count": 0,
      "outputs": [
        {
          "output_type": "stream",
          "text": [
            "The data type of bow matrix <class 'scipy.sparse.csr.csr_matrix'>\n",
            "Shape of the matrix <bound method spmatrix.get_shape of <5x85 sparse matrix of type '<class 'numpy.int64'>'\n",
            "\twith 113 stored elements in Compressed Sparse Row format>>\n",
            "Size of the matrix is: 56\n",
            "['001', '02', '09', '10', '20', '2019', '700', 'accept', 'advised', 'agency', 'al', 'all', 'amend', 'amendments', 'and', 'angement', 'any', 'arr', 'arrangement', 'assigning', 'bank', 'be', 'become', 'bengal', 'bidders', 'business', 'by', 'compensation', 'copied', 'corporate', 'cost', 'dated', 'document', 'either', 'for', 'form', 'fully', 'general', 'head', 'implementation', 'imw', 'in', 'information', 'insurance', 'is', 'it', 'its', 'kolkata', 'not', 'number', 'of', 'office', 'or', 'partially', 'prepared', 'property', 'proposal', 'provided', 'reason', 'reference', 'reissue', 'reject', 'request', 'rescind', 'reserves', 'response', 'responses', 'returned', 'reused', 'rfp', 'right', 'sarani', 'should', 'so', 'state', 'the', 'thereof', 'this', 'to', 'uco', 'used', 'west', 'whatsoever', 'will', 'without']\n",
            "[[0 1 1 0 1 2 0 0 0 1 0 0 0 0 1 0 0 0 1 0 1 1 1 0 1 1 1 0 0 1 0 1 1 0 3 0\n",
            "  0 1 0 0 1 1 1 1 0 0 0 0 1 1 1 0 0 0 0 1 1 1 0 1 0 0 1 0 0 1 0 1 0 3 0 0\n",
            "  0 0 0 4 0 1 1 1 0 0 0 2 0]\n",
            " [0 0 0 0 0 0 0 1 1 0 1 2 1 1 3 0 3 0 0 1 2 1 0 0 0 0 0 1 0 0 1 0 2 0 0 0\n",
            "  0 0 0 0 0 0 0 0 0 0 1 0 0 0 0 0 2 0 0 0 0 0 1 0 1 1 0 1 2 0 1 0 0 2 2 0\n",
            "  0 1 0 5 1 2 4 0 0 0 1 1 2]\n",
            " [0 0 0 0 0 0 0 0 0 1 0 0 0 0 0 1 0 1 0 0 1 0 0 0 0 1 1 0 0 1 0 0 1 0 2 0\n",
            "  0 1 0 1 0 0 0 1 1 0 0 0 0 0 1 0 0 0 1 0 0 0 0 0 0 0 0 0 0 0 0 0 0 0 0 0\n",
            "  0 0 0 0 0 1 0 1 0 0 0 0 0]\n",
            " [0 0 0 0 0 0 0 0 0 0 0 0 0 0 0 0 1 0 0 0 0 1 0 0 0 0 0 0 1 0 0 0 0 1 0 1\n",
            "  1 0 0 0 0 1 0 0 0 1 0 0 1 0 0 0 3 1 0 0 0 0 0 0 0 0 0 0 0 0 0 0 1 0 0 0\n",
            "  1 0 0 0 0 0 0 0 1 0 0 0 0]\n",
            " [1 0 0 1 0 0 1 0 0 0 0 0 0 0 0 0 0 0 0 0 1 0 0 1 0 0 0 0 0 0 0 0 0 0 0 0\n",
            "  0 0 1 0 0 0 0 0 0 0 0 1 0 0 0 1 0 0 0 0 0 0 0 0 0 0 0 0 0 0 0 0 0 0 0 1\n",
            "  0 0 1 0 0 0 0 1 0 1 0 0 0]]\n"
          ],
          "name": "stdout"
        }
      ]
    },
    {
      "cell_type": "code",
      "metadata": {
        "id": "mHuFmtvuQcFt",
        "colab_type": "code",
        "outputId": "1a5b1b8a-1d38-4071-ff63-9c0622af3928",
        "colab": {
          "base_uri": "https://localhost:8080/",
          "height": 1000
        }
      },
      "source": [
        "normal_matrix = TfidfTransformer().fit_transform(cv_matrix)\n",
        "print(normal_matrix.toarray())"
      ],
      "execution_count": 0,
      "outputs": [
        {
          "output_type": "stream",
          "text": [
            "[[0.         0.1348322  0.1348322  0.         0.1348322  0.2696644\n",
            "  0.         0.         0.         0.10878177 0.         0.\n",
            "  0.         0.         0.10878177 0.         0.         0.\n",
            "  0.1348322  0.         0.07596211 0.09029869 0.1348322  0.\n",
            "  0.1348322  0.10878177 0.10878177 0.         0.         0.10878177\n",
            "  0.         0.1348322  0.09029869 0.         0.32634531 0.\n",
            "  0.         0.10878177 0.         0.         0.1348322  0.10878177\n",
            "  0.1348322  0.10878177 0.         0.         0.         0.\n",
            "  0.10878177 0.1348322  0.10878177 0.         0.         0.\n",
            "  0.         0.1348322  0.1348322  0.1348322  0.         0.1348322\n",
            "  0.         0.         0.1348322  0.         0.         0.1348322\n",
            "  0.         0.1348322  0.         0.32634531 0.         0.\n",
            "  0.         0.         0.         0.43512707 0.         0.09029869\n",
            "  0.10878177 0.09029869 0.         0.         0.         0.21756354\n",
            "  0.        ]\n",
            " [0.         0.         0.         0.         0.         0.\n",
            "  0.         0.11005069 0.11005069 0.         0.11005069 0.22010137\n",
            "  0.11005069 0.11005069 0.2663646  0.         0.2663646  0.\n",
            "  0.         0.11005069 0.12400128 0.07370223 0.         0.\n",
            "  0.         0.         0.         0.11005069 0.         0.\n",
            "  0.11005069 0.         0.14740446 0.         0.         0.\n",
            "  0.         0.         0.         0.         0.         0.\n",
            "  0.         0.         0.         0.         0.11005069 0.\n",
            "  0.         0.         0.         0.         0.1775764  0.\n",
            "  0.         0.         0.         0.         0.11005069 0.\n",
            "  0.11005069 0.11005069 0.         0.11005069 0.22010137 0.\n",
            "  0.11005069 0.         0.         0.1775764  0.22010137 0.\n",
            "  0.         0.11005069 0.         0.44394101 0.11005069 0.14740446\n",
            "  0.35515281 0.         0.         0.         0.11005069 0.0887882\n",
            "  0.22010137]\n",
            " [0.         0.         0.         0.         0.         0.\n",
            "  0.         0.         0.         0.21700067 0.         0.\n",
            "  0.         0.         0.         0.26896673 0.         0.26896673\n",
            "  0.         0.         0.15153116 0.         0.         0.\n",
            "  0.         0.21700067 0.21700067 0.         0.         0.21700067\n",
            "  0.         0.         0.18013015 0.         0.43400133 0.\n",
            "  0.         0.21700067 0.         0.26896673 0.         0.\n",
            "  0.         0.21700067 0.26896673 0.         0.         0.\n",
            "  0.         0.         0.21700067 0.         0.         0.\n",
            "  0.26896673 0.         0.         0.         0.         0.\n",
            "  0.         0.         0.         0.         0.         0.\n",
            "  0.         0.         0.         0.         0.         0.\n",
            "  0.         0.         0.         0.         0.         0.18013015\n",
            "  0.         0.18013015 0.         0.         0.         0.\n",
            "  0.        ]\n",
            " [0.         0.         0.         0.         0.         0.\n",
            "  0.         0.         0.         0.         0.         0.\n",
            "  0.         0.         0.         0.         0.19419959 0.\n",
            "  0.         0.         0.         0.1612032  0.         0.\n",
            "  0.         0.         0.         0.         0.24070539 0.\n",
            "  0.         0.         0.         0.24070539 0.         0.24070539\n",
            "  0.24070539 0.         0.         0.         0.         0.19419959\n",
            "  0.         0.         0.         0.24070539 0.         0.\n",
            "  0.19419959 0.         0.         0.         0.58259877 0.24070539\n",
            "  0.         0.         0.         0.         0.         0.\n",
            "  0.         0.         0.         0.         0.         0.\n",
            "  0.         0.         0.24070539 0.         0.         0.\n",
            "  0.24070539 0.         0.         0.         0.         0.\n",
            "  0.         0.         0.24070539 0.         0.         0.\n",
            "  0.        ]\n",
            " [0.30477164 0.         0.         0.30477164 0.         0.\n",
            "  0.30477164 0.         0.         0.         0.         0.\n",
            "  0.         0.         0.         0.         0.         0.\n",
            "  0.         0.         0.17170303 0.         0.         0.30477164\n",
            "  0.         0.         0.         0.         0.         0.\n",
            "  0.         0.         0.         0.         0.         0.\n",
            "  0.         0.         0.30477164 0.         0.         0.\n",
            "  0.         0.         0.         0.         0.         0.30477164\n",
            "  0.         0.         0.         0.30477164 0.         0.\n",
            "  0.         0.         0.         0.         0.         0.\n",
            "  0.         0.         0.         0.         0.         0.\n",
            "  0.         0.         0.         0.         0.         0.30477164\n",
            "  0.         0.         0.30477164 0.         0.         0.\n",
            "  0.         0.20410912 0.         0.30477164 0.         0.\n",
            "  0.        ]]\n"
          ],
          "name": "stdout"
        }
      ]
    },
    {
      "cell_type": "code",
      "metadata": {
        "id": "aA4FweDuQXgK",
        "colab_type": "code",
        "outputId": "fe15f28c-1be5-4af5-e005-48a5ded1a571",
        "colab": {
          "base_uri": "https://localhost:8080/",
          "height": 51
        }
      },
      "source": [
        "print(normal_matrix.T.toarray)\n",
        "res_graph = normal_matrix * normal_matrix.T"
      ],
      "execution_count": 0,
      "outputs": [
        {
          "output_type": "stream",
          "text": [
            "<bound method _cs_matrix.toarray of <85x5 sparse matrix of type '<class 'numpy.float64'>'\n",
            "\twith 113 stored elements in Compressed Sparse Column format>>\n"
          ],
          "name": "stdout"
        }
      ]
    },
    {
      "cell_type": "code",
      "metadata": {
        "id": "HSVHg8gXSBSt",
        "colab_type": "code",
        "outputId": "9acf1cd6-d79f-4f7e-f26d-48dc995b44a6",
        "colab": {
          "base_uri": "https://localhost:8080/",
          "height": 286
        }
      },
      "source": [
        "plt.spy(res_graph)"
      ],
      "execution_count": 0,
      "outputs": [
        {
          "output_type": "execute_result",
          "data": {
            "text/plain": [
              "<matplotlib.lines.Line2D at 0x7f0e3ae8f9e8>"
            ]
          },
          "metadata": {
            "tags": []
          },
          "execution_count": 127
        },
        {
          "output_type": "display_data",
          "data": {
            "image/png": "[encoded data removed]",
            "text/plain": [
              "<Figure size 432x288 with 1 Axes>"
            ]
          },
          "metadata": {
            "tags": []
          }
        }
      ]
    },
    {
      "cell_type": "code",
      "metadata": {
        "id": "saILYaPzSBxS",
        "colab_type": "code",
        "outputId": "1a33aa4c-6a9f-424f-e0f8-c8aa741f9314",
        "colab": {
          "base_uri": "https://localhost:8080/",
          "height": 370
        }
      },
      "source": [
        "nx_graph = nx.from_scipy_sparse_matrix(res_graph)\n",
        "nx.draw_circular(nx_graph)\n",
        "print('Number of edges {}'.format(nx_graph.number_of_edges()))\n",
        "print('Number of vertices {}'.format(nx_graph.number_of_nodes()))\n",
        "plt.show()\n",
        "print('The memory used by the graph in Bytes is: {}'.format(sys.getsizeof(nx_graph)))"
      ],
      "execution_count": 0,
      "outputs": [
        {
          "output_type": "stream",
          "text": [
            "Number of edges 13\n",
            "Number of vertices 5\n"
          ],
          "name": "stdout"
        },
        {
          "output_type": "display_data",
          "data": {
            "image/png": "[encoded data removed]",
            "text/plain": [
              "<Figure size 432x288 with 1 Axes>"
            ]
          },
          "metadata": {
            "tags": []
          }
        },
        {
          "output_type": "stream",
          "text": [
            "The memory used by the graph in Bytes is: 56\n"
          ],
          "name": "stdout"
        }
      ]
    },
    {
      "cell_type": "code",
      "metadata": {
        "id": "aArYEbqwSGCq",
        "colab_type": "code",
        "outputId": "a10d770e-6588-4be6-b1b4-505dfa66d597",
        "colab": {
          "base_uri": "https://localhost:8080/",
          "height": 136
        }
      },
      "source": [
        "\n",
        "# ranks is a dictionary with key=node(sentences) and value=textrank (the rank of each of the sentences)\n",
        "ranks = nx.pagerank(nx_graph)\n",
        "\n",
        "# analyse the data type of ranks\n",
        "print(type(ranks))\n",
        "print('The size used by the dictionary in Bytes is: {}'.format(sys.getsizeof(ranks)))\n",
        "\n",
        "# print the dictionary\n",
        "for i in ranks:\n",
        "    print(i, ranks[i])"
      ],
      "execution_count": 0,
      "outputs": [
        {
          "output_type": "stream",
          "text": [
            "<class 'dict'>\n",
            "The size used by the dictionary in Bytes is: 240\n",
            "0 0.23159524353303385\n",
            "1 0.21259973411340805\n",
            "2 0.19784883759409824\n",
            "3 0.17836363070401434\n",
            "4 0.17959255405544536\n"
          ],
          "name": "stdout"
        }
      ]
    },
    {
      "cell_type": "code",
      "metadata": {
        "id": "A266fY7HSJlV",
        "colab_type": "code",
        "colab": {}
      },
      "source": [
        "sentence_array = sorted(((ranks[i], s) for i, s in enumerate(sentences_list)), reverse=True)\n",
        "sentence_array = np.asarray(sentence_array)"
      ],
      "execution_count": 0,
      "outputs": []
    },
    {
      "cell_type": "code",
      "metadata": {
        "id": "mBGc19f9SM2G",
        "colab_type": "code",
        "colab": {}
      },
      "source": [
        "rank_max = float(sentence_array[0][0])\n",
        "rank_min = float(sentence_array[len(sentence_array) - 1][0])"
      ],
      "execution_count": 0,
      "outputs": []
    },
    {
      "cell_type": "code",
      "metadata": {
        "id": "gPAtoRuWSO4b",
        "colab_type": "code",
        "outputId": "74dd1786-69e3-4ae2-ac22-dc750c36474a",
        "colab": {
          "base_uri": "https://localhost:8080/",
          "height": 51
        }
      },
      "source": [
        "print(rank_max)\n",
        "print(rank_min)"
      ],
      "execution_count": 0,
      "outputs": [
        {
          "output_type": "stream",
          "text": [
            "0.23159524353303385\n",
            "0.17836363070401434\n"
          ],
          "name": "stdout"
        }
      ]
    },
    {
      "cell_type": "code",
      "metadata": {
        "id": "8kYs-nLGSQle",
        "colab_type": "code",
        "outputId": "eb8bbcea-ad8f-4f4e-f165-2241d4d927aa",
        "colab": {
          "base_uri": "https://localhost:8080/",
          "height": 34
        }
      },
      "source": [
        "temp_array = []\n",
        "\n",
        "# if all sentences have equal ranks, means they are all the same\n",
        "# taking any sentence will give the summary, say the first sentence\n",
        "flag = 0\n",
        "if rank_max - rank_min == 0:\n",
        "    temp_array.append(0)\n",
        "    flag = 1\n",
        "\n",
        "# If the sentence has different ranks\n",
        "if flag != 1:\n",
        "    for i in range(0, len(sentence_array)):\n",
        "        temp_array.append((float(sentence_array[i][0]) - rank_min) / (rank_max - rank_min))\n",
        "\n",
        "print(len(temp_array))"
      ],
      "execution_count": 0,
      "outputs": [
        {
          "output_type": "stream",
          "text": [
            "5\n"
          ],
          "name": "stdout"
        }
      ]
    },
    {
      "cell_type": "code",
      "metadata": {
        "id": "KyKolSirSTx2",
        "colab_type": "code",
        "colab": {}
      },
      "source": [
        "threshold = (sum(temp_array) / len(temp_array)) + 0.2"
      ],
      "execution_count": 0,
      "outputs": []
    },
    {
      "cell_type": "code",
      "metadata": {
        "id": "XAdzngGSSV4d",
        "colab_type": "code",
        "colab": {}
      },
      "source": [
        "sentence_list = []\n",
        "if len(temp_array) > 1:\n",
        "    for i in range(0, len(temp_array)):\n",
        "        if temp_array[i] > threshold:\n",
        "                sentence_list.append(sentence_array[i][1])\n",
        "else:\n",
        "    sentence_list.append(sentence_array[0][1])"
      ],
      "execution_count": 0,
      "outputs": []
    },
    {
      "cell_type": "code",
      "metadata": {
        "id": "8K7FOS3WSXs0",
        "colab_type": "code",
        "colab": {}
      },
      "source": [
        "model = sentence_list"
      ],
      "execution_count": 0,
      "outputs": []
    },
    {
      "cell_type": "code",
      "metadata": {
        "id": "_sKV4-C_SZuY",
        "colab_type": "code",
        "outputId": "434bb301-de23-4c91-9e48-1aac1cb1a3a3",
        "colab": {
          "base_uri": "https://localhost:8080/",
          "height": 816
        }
      },
      "source": [
        "summary = \" \".join(str(x) for x in sentence_list)\n",
        "print(summary)\n",
        "# save the data in another file, names sum.txt\n",
        "f = open('final3.txt', 'a+')\n",
        "#print(type(f))\n",
        "f.write('\\n')\n",
        "f.write(summary)\n",
        "f.close"
      ],
      "execution_count": 0,
      "outputs": [
        {
          "output_type": "stream",
          "text": [
            "1\n",
            " \n",
            " \n",
            " \n",
            " \n",
            " \n",
            " \n",
            " \n",
            " \n",
            "Request for Proposal (RFP)\n",
            " \n",
            "for\n",
            " \n",
            "Corporate Agency Arrangement for\n",
            " \n",
            "General Insurance Business\n",
            " \n",
            " \n",
            "Reference Number\n",
            " \n",
            ":   UCO/IMW/RFP/02/2019\n",
            "-\n",
            "20\n",
            " \n",
            " \n",
            "Dated\n",
            " \n",
            ":    \n",
            "1\n",
            "8\n",
            "/\n",
            "09\n",
            "/2019\n",
            " \n",
            " \n",
            " \n",
            "The information provided by the Bidders in response to this RFP Document will become \n",
            "the\n",
            " \n",
            "property of the Bank and will not be returned. The Bank reserves the right to amend, \n",
            "rescind, reissue this RFP Document and all amendments will be advised to the \n",
            "\n",
            "The Bank al\n",
            "so reserves its right to accept or reject any or all the responses to this RFP \n",
            "Document without assigning any reason whatsoever and without any cost and \n",
            "compensation thereof.\n"
          ],
          "name": "stdout"
        },
        {
          "output_type": "execute_result",
          "data": {
            "text/plain": [
              "<function TextIOWrapper.close>"
            ]
          },
          "metadata": {
            "tags": []
          },
          "execution_count": 137
        }
      ]
    },
    {
      "cell_type": "code",
      "metadata": {
        "id": "wlRmPppzSb7s",
        "colab_type": "code",
        "outputId": "d64bf7b5-af63-4772-c91c-b353526503c9",
        "colab": {
          "base_uri": "https://localhost:8080/",
          "height": 816
        }
      },
      "source": [
        "for lines in sentence_list:\n",
        "    print(lines)"
      ],
      "execution_count": 0,
      "outputs": [
        {
          "output_type": "stream",
          "text": [
            "1\n",
            " \n",
            " \n",
            " \n",
            " \n",
            " \n",
            " \n",
            " \n",
            " \n",
            "Request for Proposal (RFP)\n",
            " \n",
            "for\n",
            " \n",
            "Corporate Agency Arrangement for\n",
            " \n",
            "General Insurance Business\n",
            " \n",
            " \n",
            "Reference Number\n",
            " \n",
            ":   UCO/IMW/RFP/02/2019\n",
            "-\n",
            "20\n",
            " \n",
            " \n",
            "Dated\n",
            " \n",
            ":    \n",
            "1\n",
            "8\n",
            "/\n",
            "09\n",
            "/2019\n",
            " \n",
            " \n",
            " \n",
            "The information provided by the Bidders in response to this RFP Document will become \n",
            "the\n",
            " \n",
            "property of the Bank and will not be returned.\n",
            "The Bank reserves the right to amend, \n",
            "rescind, reissue this RFP Document and all amendments will be advised to the \n",
            "\n",
            "The Bank al\n",
            "so reserves its right to accept or reject any or all the responses to this RFP \n",
            "Document without assigning any reason whatsoever and without any cost and \n",
            "compensation thereof.\n"
          ],
          "name": "stdout"
        }
      ]
    },
    {
      "cell_type": "code",
      "metadata": {
        "id": "Un7j6rewSfYZ",
        "colab_type": "code",
        "colab": {}
      },
      "source": [
        ""
      ],
      "execution_count": 0,
      "outputs": []
    }
  ]
}
