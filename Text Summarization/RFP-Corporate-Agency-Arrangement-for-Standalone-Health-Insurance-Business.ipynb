{
 "cells": [
  {
   "cell_type": "code",
   "execution_count": 0,
   "metadata": {
    "colab": {
     "base_uri": "https://localhost:8080/",
     "height": 122
    },
    "colab_type": "code",
    "id": "NUlJnXccH6k7",
    "outputId": "98a8ef0b-0993-4a9f-cbaa-6082fdcd3f0f"
   },
   "outputs": [
    {
     "name": "stdout",
     "output_type": "stream",
     "text": [
      "Go to this URL in a browser: https://accounts.google.com/o/oauth2/auth?client_id=947318989803-6bn6qk8qdgf4n4g3pfee6491hc0brc4i.apps.googleusercontent.com&redirect_uri=urn%3aietf%3awg%3aoauth%3a2.0%3aoob&response_type=code&scope=email%20https%3a%2f%2fwww.googleapis.com%2fauth%2fdocs.test%20https%3a%2f%2fwww.googleapis.com%2fauth%2fdrive%20https%3a%2f%2fwww.googleapis.com%2fauth%2fdrive.photos.readonly%20https%3a%2f%2fwww.googleapis.com%2fauth%2fpeopleapi.readonly\n",
      "\n",
      "Enter your authorization code:\n",
      "··········\n",
      "Mounted at /content/drive\n"
     ]
    }
   ],
   "source": [
    "from google.colab import drive\n",
    "drive.mount('/content/drive')"
   ]
  },
  {
   "cell_type": "code",
   "execution_count": 0,
   "metadata": {
    "colab": {
     "base_uri": "https://localhost:8080/",
     "height": 360
    },
    "colab_type": "code",
    "id": "ERifsj0zIjBe",
    "outputId": "0bc0d60b-8b91-454a-b790-9e641a5f9391"
   },
   "outputs": [
    {
     "name": "stdout",
     "output_type": "stream",
     "text": [
      "Collecting PyPDF2\n",
      "\u001b[?25l  Downloading https://files.pythonhosted.org/packages/b4/01/68fcc0d43daf4c6bdbc6b33cc3f77bda531c86b174cac56ef0ffdb96faab/PyPDF2-1.26.0.tar.gz (77kB)\n",
      "\r",
      "\u001b[K     |████▎                           | 10kB 17.4MB/s eta 0:00:01\r",
      "\u001b[K     |████████▌                       | 20kB 1.8MB/s eta 0:00:01\r",
      "\u001b[K     |████████████▊                   | 30kB 2.7MB/s eta 0:00:01\r",
      "\u001b[K     |█████████████████               | 40kB 1.8MB/s eta 0:00:01\r",
      "\u001b[K     |█████████████████████▏          | 51kB 2.2MB/s eta 0:00:01\r",
      "\u001b[K     |█████████████████████████▍      | 61kB 2.6MB/s eta 0:00:01\r",
      "\u001b[K     |█████████████████████████████▋  | 71kB 3.0MB/s eta 0:00:01\r",
      "\u001b[K     |████████████████████████████████| 81kB 2.5MB/s \n",
      "\u001b[?25hBuilding wheels for collected packages: PyPDF2\n",
      "  Building wheel for PyPDF2 (setup.py) ... \u001b[?25l\u001b[?25hdone\n",
      "  Created wheel for PyPDF2: filename=PyPDF2-1.26.0-cp36-none-any.whl size=61085 sha256=eb1015cad33505c6ffa3ae1db7a2e3b1df4c6bbcfbdb5220debcc233f299fc85\n",
      "  Stored in directory: /root/.cache/pip/wheels/53/84/19/35bc977c8bf5f0c23a8a011aa958acd4da4bbd7a229315c1b7\n",
      "Successfully built PyPDF2\n",
      "Installing collected packages: PyPDF2\n",
      "Successfully installed PyPDF2-1.26.0\n",
      "Collecting docx2txt\n",
      "  Downloading https://files.pythonhosted.org/packages/7d/7d/60ee3f2b16d9bfdfa72e8599470a2c1a5b759cb113c6fe1006be28359327/docx2txt-0.8.tar.gz\n",
      "Building wheels for collected packages: docx2txt\n",
      "  Building wheel for docx2txt (setup.py) ... \u001b[?25l\u001b[?25hdone\n",
      "  Created wheel for docx2txt: filename=docx2txt-0.8-cp36-none-any.whl size=3965 sha256=e67bc3803c3db5a58417a5f180838fe606184a56f352ce6ec411fc15c75e78a2\n",
      "  Stored in directory: /root/.cache/pip/wheels/b2/1f/26/a051209bbb77fc6bcfae2bb7e01fa0ff941b82292ab084d596\n",
      "Successfully built docx2txt\n",
      "Installing collected packages: docx2txt\n",
      "Successfully installed docx2txt-0.8\n"
     ]
    }
   ],
   "source": [
    "!pip install PyPDF2\n",
    "!pip install docx2txt"
   ]
  },
  {
   "cell_type": "code",
   "execution_count": 0,
   "metadata": {
    "colab": {},
    "colab_type": "code",
    "id": "zQrxiqLNIC6z"
   },
   "outputs": [],
   "source": [
    "import numpy as np\n",
    "import PyPDF2\n",
    "import docx2txt\n",
    "import sys"
   ]
  },
  {
   "cell_type": "code",
   "execution_count": 0,
   "metadata": {
    "colab": {},
    "colab_type": "code",
    "id": "h2VuSkBCIC9x"
   },
   "outputs": [],
   "source": [
    "import matplotlib.pyplot as plt\n",
    "%matplotlib inline"
   ]
  },
  {
   "cell_type": "code",
   "execution_count": 0,
   "metadata": {
    "colab": {},
    "colab_type": "code",
    "id": "B-nSVEW4IDFm"
   },
   "outputs": [],
   "source": [
    "import networkx as nx"
   ]
  },
  {
   "cell_type": "code",
   "execution_count": 0,
   "metadata": {
    "colab": {},
    "colab_type": "code",
    "id": "BL0WS9m6IDI6"
   },
   "outputs": [],
   "source": [
    "from nltk.tokenize.punkt import PunktSentenceTokenizer\n",
    "from sklearn.feature_extraction.text import TfidfTransformer, CountVectorizer"
   ]
  },
  {
   "cell_type": "code",
   "execution_count": 0,
   "metadata": {
    "colab": {},
    "colab_type": "code",
    "id": "S17pm3xeIDD6"
   },
   "outputs": [],
   "source": [
    "def readDoc():\n",
    "    name = '/content/drive/My Drive/work/RFP-Corporate-Agency-Arrangement-for-Standalone-Health-Insurance-Business.pdf'\n",
    "    print('You have asked for the document {}'.format(name))\n",
    "    if name.lower().endswith('.txt'):\n",
    "        choice = 1\n",
    "    elif name.lower().endswith('.pdf'):\n",
    "        choice = 2\n",
    "    else:\n",
    "        choice = 3\n",
    "    print(choice)   \n",
    "    if choice == 1:\n",
    "        f = open(name, 'r')\n",
    "        document = f.read()\n",
    "        f.close()\n",
    "    elif choice == 2:\n",
    "        pdfFileObj = open(name, 'rb')\n",
    "        pdfReader = PyPDF2.PdfFileReader(pdfFileObj)\n",
    "        pageObj = pdfReader.getPage(0)\n",
    "        document = pageObj.extractText()\n",
    "        pdfFileObj.close()\n",
    "    else:\n",
    "        print('Failed to load a valid file')\n",
    "        print('Returning an empty string')\n",
    "        document = ''\n",
    "    \n",
    "    print(type(document))\n",
    "    return document"
   ]
  },
  {
   "cell_type": "code",
   "execution_count": 0,
   "metadata": {
    "colab": {
     "base_uri": "https://localhost:8080/",
     "height": 105
    },
    "colab_type": "code",
    "id": "o99gQ3otPpvg",
    "outputId": "1da88349-e51a-45c8-c40d-6808da6f2092"
   },
   "outputs": [
    {
     "name": "stdout",
     "output_type": "stream",
     "text": [
      "You have asked for the document /content/drive/My Drive/work/RFP-Corporate-Agency-Arrangement-for-Standalone-Health-Insurance-Business.pdf\n",
      "2\n",
      "<class 'str'>\n",
      "The length of the file is: 453\n"
     ]
    }
   ],
   "source": [
    "document = readDoc()\n",
    "print('The length of the file is:', end=' ')\n",
    "print(len(document))"
   ]
  },
  {
   "cell_type": "code",
   "execution_count": 0,
   "metadata": {
    "colab": {},
    "colab_type": "code",
    "id": "kec0mj6ML730"
   },
   "outputs": [],
   "source": [
    "def tokenize(document):\n",
    "    doc_tokenizer = PunktSentenceTokenizer()\n",
    "    sentences_list = doc_tokenizer.tokenize(document)\n",
    "    return sentences_list"
   ]
  },
  {
   "cell_type": "code",
   "execution_count": 0,
   "metadata": {
    "colab": {
     "base_uri": "https://localhost:8080/",
     "height": 51
    },
    "colab_type": "code",
    "id": "jr22g0ZAMnGk",
    "outputId": "b4bfc659-7496-4e99-8edb-f3609eaf0438"
   },
   "outputs": [
    {
     "name": "stdout",
     "output_type": "stream",
     "text": [
      "The size of the list in Bytes is: 96\n",
      "The size of the item 0 in Bytes is: 499\n"
     ]
    }
   ],
   "source": [
    "sentences_list = tokenize(document)\n",
    "print('The size of the list in Bytes is: {}'.format(sys.getsizeof(sentences_list)))\n",
    "print('The size of the item 0 in Bytes is: {}'.format(sys.getsizeof(sentences_list[0])))"
   ]
  },
  {
   "cell_type": "code",
   "execution_count": 0,
   "metadata": {
    "colab": {
     "base_uri": "https://localhost:8080/",
     "height": 34
    },
    "colab_type": "code",
    "id": "o8KnmzeVMqw4",
    "outputId": "a199173e-d9c7-4bf3-f6a1-7f2a4731f778"
   },
   "outputs": [
    {
     "name": "stdout",
     "output_type": "stream",
     "text": [
      "<class 'list'>\n"
     ]
    }
   ],
   "source": [
    "print(type(sentences_list))"
   ]
  },
  {
   "cell_type": "code",
   "execution_count": 0,
   "metadata": {
    "colab": {
     "base_uri": "https://localhost:8080/",
     "height": 34
    },
    "colab_type": "code",
    "id": "bTuTMdzSQcKU",
    "outputId": "89dc2fc3-6e55-4edf-d08c-1ecb7cd0353a"
   },
   "outputs": [
    {
     "name": "stdout",
     "output_type": "stream",
     "text": [
      "The size of the list \"sentences\" is: 1\n"
     ]
    }
   ],
   "source": [
    "print('The size of the list \"sentences\" is: {}'.format(len(sentences_list)))"
   ]
  },
  {
   "cell_type": "code",
   "execution_count": 0,
   "metadata": {
    "colab": {
     "base_uri": "https://localhost:8080/",
     "height": 884
    },
    "colab_type": "code",
    "id": "lQxT5l5PQcIr",
    "outputId": "761cddea-2ef5-4da3-fef5-a1c71215b09d"
   },
   "outputs": [
    {
     "name": "stdout",
     "output_type": "stream",
     "text": [
      " \n",
      " \n",
      " \n",
      "Request \n",
      "f\n",
      "or Proposal (RFP)\n",
      " \n",
      "For\n",
      " \n",
      "Corporate Agency Arrangement for\n",
      " \n",
      "General (03) and Standalone Health Insurance Business (01) \n",
      " \n",
      " \n",
      "Reference Number\n",
      " \n",
      ":\n",
      " \n",
      "IDBI Bank/ 2018\n",
      "-\n",
      "19/TPD/CA/RFP/01\n",
      " \n",
      "Dated\n",
      " \n",
      " \n",
      "            \n",
      ":\n",
      " \n",
      "22.02.2019\n",
      " \n",
      "Issued By\n",
      " \n",
      " \n",
      ":\n",
      " \n",
      "IDBI Bank Limited\n",
      " \n",
      "Head Office\n",
      " \n",
      " \n",
      ":\n",
      " \n",
      "Corporate Centre, Mumbai, IDBI Towers, World Trade\n",
      " \n",
      "                                       \n",
      "Centre\n",
      " \n",
      "Complex, Cuffe Parade, Colaba, Mumbai\n",
      "-\n",
      " \n",
      "400005\n"
     ]
    }
   ],
   "source": [
    "for i in sentences_list:\n",
    "    print(i)"
   ]
  },
  {
   "cell_type": "code",
   "execution_count": 0,
   "metadata": {
    "colab": {},
    "colab_type": "code",
    "id": "MfgDwUYTRZzZ"
   },
   "outputs": [],
   "source": [
    "cv = CountVectorizer()\n",
    "cv_matrix = cv.fit_transform(sentences_list)"
   ]
  },
  {
   "cell_type": "code",
   "execution_count": 0,
   "metadata": {
    "colab": {
     "base_uri": "https://localhost:8080/",
     "height": 68
    },
    "colab_type": "code",
    "id": "ihVvw2dZRZxX",
    "outputId": "04cc633e-3cce-40fb-9fd3-a431464aa6b9"
   },
   "outputs": [
    {
     "name": "stdout",
     "output_type": "stream",
     "text": [
      "Result demo array is [[0 1 1 1 1 1 0 1]\n",
      " [1 0 0 1 0 0 1 0]]\n",
      "Feature list: ['am', 'are', 'ashish', 'bad', 'good', 'is', 'not', 'you']\n"
     ]
    }
   ],
   "source": [
    "cv_demo = CountVectorizer() \n",
    "text_demo = [\"Ashish is good, you are bad\", \"I am not bad\"] \n",
    "res_demo = cv_demo.fit_transform(text_demo)\n",
    "print('Result demo array is {}'.format(res_demo.toarray()))\n",
    "print('Feature list: {}'.format(cv_demo.get_feature_names()))"
   ]
  },
  {
   "cell_type": "code",
   "execution_count": 0,
   "metadata": {
    "colab": {
     "base_uri": "https://localhost:8080/",
     "height": 156
    },
    "colab_type": "code",
    "id": "JIuFZ-jaRZu1",
    "outputId": "4f93fbfc-109e-492b-880e-0951f2f50feb"
   },
   "outputs": [
    {
     "name": "stdout",
     "output_type": "stream",
     "text": [
      "The data type of bow matrix <class 'scipy.sparse.csr.csr_matrix'>\n",
      "Shape of the matrix <bound method spmatrix.get_shape of <1x43 sparse matrix of type '<class 'numpy.int64'>'\n",
      "\twith 43 stored elements in Compressed Sparse Row format>>\n",
      "Size of the matrix is: 56\n",
      "['01', '02', '03', '19', '2018', '2019', '22', '400005', 'agency', 'and', 'arrangement', 'bank', 'business', 'by', 'ca', 'centre', 'colaba', 'complex', 'corporate', 'cuffe', 'dated', 'for', 'general', 'head', 'health', 'idbi', 'insurance', 'issued', 'limited', 'mumbai', 'number', 'office', 'or', 'parade', 'proposal', 'reference', 'request', 'rfp', 'standalone', 'towers', 'tpd', 'trade', 'world']\n",
      "[[2 1 1 1 1 1 1 1 1 1 1 2 1 1 1 2 1 1 2 1 1 2 1 1 1 3 1 1 1 2 1 1 1 1 1 1\n",
      "  1 2 1 1 1 1 1]]\n"
     ]
    }
   ],
   "source": [
    "print('The data type of bow matrix {}'.format(type(cv_matrix)))\n",
    "print('Shape of the matrix {}'.format(cv_matrix.get_shape))\n",
    "print('Size of the matrix is: {}'.format(sys.getsizeof(cv_matrix)))\n",
    "print(cv.get_feature_names())\n",
    "print(cv_matrix.toarray())"
   ]
  },
  {
   "cell_type": "code",
   "execution_count": 0,
   "metadata": {
    "colab": {
     "base_uri": "https://localhost:8080/",
     "height": 153
    },
    "colab_type": "code",
    "id": "mHuFmtvuQcFt",
    "outputId": "48f54ce8-b0d0-4a7d-f748-6caa7ae1134d"
   },
   "outputs": [
    {
     "name": "stdout",
     "output_type": "stream",
     "text": [
      "[[0.23570226 0.11785113 0.11785113 0.11785113 0.11785113 0.11785113\n",
      "  0.11785113 0.11785113 0.11785113 0.11785113 0.11785113 0.23570226\n",
      "  0.11785113 0.11785113 0.11785113 0.23570226 0.11785113 0.11785113\n",
      "  0.23570226 0.11785113 0.11785113 0.23570226 0.11785113 0.11785113\n",
      "  0.11785113 0.35355339 0.11785113 0.11785113 0.11785113 0.23570226\n",
      "  0.11785113 0.11785113 0.11785113 0.11785113 0.11785113 0.11785113\n",
      "  0.11785113 0.23570226 0.11785113 0.11785113 0.11785113 0.11785113\n",
      "  0.11785113]]\n"
     ]
    }
   ],
   "source": [
    "normal_matrix = TfidfTransformer().fit_transform(cv_matrix)\n",
    "print(normal_matrix.toarray())"
   ]
  },
  {
   "cell_type": "code",
   "execution_count": 0,
   "metadata": {
    "colab": {
     "base_uri": "https://localhost:8080/",
     "height": 51
    },
    "colab_type": "code",
    "id": "aA4FweDuQXgK",
    "outputId": "cd8ca103-b88f-4b22-ebdd-a98b1f0fa591"
   },
   "outputs": [
    {
     "name": "stdout",
     "output_type": "stream",
     "text": [
      "<bound method _cs_matrix.toarray of <43x1 sparse matrix of type '<class 'numpy.float64'>'\n",
      "\twith 43 stored elements in Compressed Sparse Column format>>\n"
     ]
    }
   ],
   "source": [
    "print(normal_matrix.T.toarray)\n",
    "res_graph = normal_matrix * normal_matrix.T"
   ]
  },
  {
   "cell_type": "code",
   "execution_count": 0,
   "metadata": {
    "colab": {
     "base_uri": "https://localhost:8080/",
     "height": 286
    },
    "colab_type": "code",
    "id": "HSVHg8gXSBSt",
    "outputId": "2168a5f1-e044-4200-e25d-7900e3804840"
   },
   "outputs": [
    {
     "data": {
      "text/plain": [
       "<matplotlib.lines.Line2D at 0x7fc84a77f160>"
      ]
     },
     "execution_count": 26,
     "metadata": {
      "tags": []
     },
     "output_type": "execute_result"
    },
    {
     "data": {
      "image/png": "[encoded data removed]",
      "text/plain": [
       "<Figure size 432x288 with 1 Axes>"
      ]
     },
     "metadata": {
      "tags": []
     },
     "output_type": "display_data"
    }
   ],
   "source": [
    "plt.spy(res_graph)"
   ]
  },
  {
   "cell_type": "code",
   "execution_count": 0,
   "metadata": {
    "colab": {
     "base_uri": "https://localhost:8080/",
     "height": 370
    },
    "colab_type": "code",
    "id": "saILYaPzSBxS",
    "outputId": "e50bbcf3-e74a-4d5c-c73f-cdcdc376e0fb"
   },
   "outputs": [
    {
     "name": "stdout",
     "output_type": "stream",
     "text": [
      "Number of edges 1\n",
      "Number of vertices 1\n"
     ]
    },
    {
     "data": {
      "image/png": "[encoded data removed]",
      "text/plain": [
       "<Figure size 432x288 with 1 Axes>"
      ]
     },
     "metadata": {
      "tags": []
     },
     "output_type": "display_data"
    },
    {
     "name": "stdout",
     "output_type": "stream",
     "text": [
      "The memory used by the graph in Bytes is: 56\n"
     ]
    }
   ],
   "source": [
    "nx_graph = nx.from_scipy_sparse_matrix(res_graph)\n",
    "nx.draw_circular(nx_graph)\n",
    "print('Number of edges {}'.format(nx_graph.number_of_edges()))\n",
    "print('Number of vertices {}'.format(nx_graph.number_of_nodes()))\n",
    "plt.show()\n",
    "print('The memory used by the graph in Bytes is: {}'.format(sys.getsizeof(nx_graph)))"
   ]
  },
  {
   "cell_type": "code",
   "execution_count": 0,
   "metadata": {
    "colab": {
     "base_uri": "https://localhost:8080/",
     "height": 68
    },
    "colab_type": "code",
    "id": "aArYEbqwSGCq",
    "outputId": "29f8bad8-502c-4dce-8c35-b6eb76151f05"
   },
   "outputs": [
    {
     "name": "stdout",
     "output_type": "stream",
     "text": [
      "<class 'dict'>\n",
      "The size used by the dictionary in Bytes is: 240\n",
      "0 1.0\n"
     ]
    }
   ],
   "source": [
    "\n",
    "# ranks is a dictionary with key=node(sentences) and value=textrank (the rank of each of the sentences)\n",
    "ranks = nx.pagerank(nx_graph)\n",
    "\n",
    "# analyse the data type of ranks\n",
    "print(type(ranks))\n",
    "print('The size used by the dictionary in Bytes is: {}'.format(sys.getsizeof(ranks)))\n",
    "\n",
    "# print the dictionary\n",
    "for i in ranks:\n",
    "    print(i, ranks[i])"
   ]
  },
  {
   "cell_type": "code",
   "execution_count": 0,
   "metadata": {
    "colab": {},
    "colab_type": "code",
    "id": "A266fY7HSJlV"
   },
   "outputs": [],
   "source": [
    "sentence_array = sorted(((ranks[i], s) for i, s in enumerate(sentences_list)), reverse=True)\n",
    "sentence_array = np.asarray(sentence_array)"
   ]
  },
  {
   "cell_type": "code",
   "execution_count": 0,
   "metadata": {
    "colab": {},
    "colab_type": "code",
    "id": "mBGc19f9SM2G"
   },
   "outputs": [],
   "source": [
    "rank_max = float(sentence_array[0][0])\n",
    "rank_min = float(sentence_array[len(sentence_array) - 1][0])"
   ]
  },
  {
   "cell_type": "code",
   "execution_count": 0,
   "metadata": {
    "colab": {
     "base_uri": "https://localhost:8080/",
     "height": 51
    },
    "colab_type": "code",
    "id": "gPAtoRuWSO4b",
    "outputId": "2f7e8baf-a167-4854-f73d-5fb98eaad0e0"
   },
   "outputs": [
    {
     "name": "stdout",
     "output_type": "stream",
     "text": [
      "1.0\n",
      "1.0\n"
     ]
    }
   ],
   "source": [
    "print(rank_max)\n",
    "print(rank_min)"
   ]
  },
  {
   "cell_type": "code",
   "execution_count": 0,
   "metadata": {
    "colab": {
     "base_uri": "https://localhost:8080/",
     "height": 34
    },
    "colab_type": "code",
    "id": "8kYs-nLGSQle",
    "outputId": "4cedd6b8-c02a-44d7-9fb0-ee51d91db921"
   },
   "outputs": [
    {
     "name": "stdout",
     "output_type": "stream",
     "text": [
      "1\n"
     ]
    }
   ],
   "source": [
    "temp_array = []\n",
    "\n",
    "# if all sentences have equal ranks, means they are all the same\n",
    "# taking any sentence will give the summary, say the first sentence\n",
    "flag = 0\n",
    "if rank_max - rank_min == 0:\n",
    "    temp_array.append(0)\n",
    "    flag = 1\n",
    "\n",
    "# If the sentence has different ranks\n",
    "if flag != 1:\n",
    "    for i in range(0, len(sentence_array)):\n",
    "        temp_array.append((float(sentence_array[i][0]) - rank_min) / (rank_max - rank_min))\n",
    "\n",
    "print(len(temp_array))"
   ]
  },
  {
   "cell_type": "code",
   "execution_count": 0,
   "metadata": {
    "colab": {},
    "colab_type": "code",
    "id": "KyKolSirSTx2"
   },
   "outputs": [],
   "source": [
    "threshold = (sum(temp_array) / len(temp_array)) + 0.2"
   ]
  },
  {
   "cell_type": "code",
   "execution_count": 0,
   "metadata": {
    "colab": {},
    "colab_type": "code",
    "id": "XAdzngGSSV4d"
   },
   "outputs": [],
   "source": [
    "sentence_list = []\n",
    "if len(temp_array) > 1:\n",
    "    for i in range(0, len(temp_array)):\n",
    "        if temp_array[i] > threshold:\n",
    "                sentence_list.append(sentence_array[i][1])\n",
    "else:\n",
    "    sentence_list.append(sentence_array[0][1])"
   ]
  },
  {
   "cell_type": "code",
   "execution_count": 0,
   "metadata": {
    "colab": {},
    "colab_type": "code",
    "id": "8K7FOS3WSXs0"
   },
   "outputs": [],
   "source": [
    "model = sentence_list"
   ]
  },
  {
   "cell_type": "code",
   "execution_count": 0,
   "metadata": {
    "colab": {
     "base_uri": "https://localhost:8080/",
     "height": 901
    },
    "colab_type": "code",
    "id": "_sKV4-C_SZuY",
    "outputId": "0a2452e2-d1d3-4efb-fd40-71589719adc7"
   },
   "outputs": [
    {
     "name": "stdout",
     "output_type": "stream",
     "text": [
      " \n",
      " \n",
      " \n",
      "Request \n",
      "f\n",
      "or Proposal (RFP)\n",
      " \n",
      "For\n",
      " \n",
      "Corporate Agency Arrangement for\n",
      " \n",
      "General (03) and Standalone Health Insurance Business (01) \n",
      " \n",
      " \n",
      "Reference Number\n",
      " \n",
      ":\n",
      " \n",
      "IDBI Bank/ 2018\n",
      "-\n",
      "19/TPD/CA/RFP/01\n",
      " \n",
      "Dated\n",
      " \n",
      " \n",
      "            \n",
      ":\n",
      " \n",
      "22.02.2019\n",
      " \n",
      "Issued By\n",
      " \n",
      " \n",
      ":\n",
      " \n",
      "IDBI Bank Limited\n",
      " \n",
      "Head Office\n",
      " \n",
      " \n",
      ":\n",
      " \n",
      "Corporate Centre, Mumbai, IDBI Towers, World Trade\n",
      " \n",
      "                                       \n",
      "Centre\n",
      " \n",
      "Complex, Cuffe Parade, Colaba, Mumbai\n",
      "-\n",
      " \n",
      "400005\n"
     ]
    },
    {
     "data": {
      "text/plain": [
       "<function TextIOWrapper.close>"
      ]
     },
     "execution_count": 36,
     "metadata": {
      "tags": []
     },
     "output_type": "execute_result"
    }
   ],
   "source": [
    "summary = \" \".join(str(x) for x in sentence_list)\n",
    "print(summary)\n",
    "# save the data in another file, names sum.txt\n",
    "f = open('final3.txt', 'a+')\n",
    "#print(type(f))\n",
    "f.write('\\n')\n",
    "f.write(summary)\n",
    "f.close"
   ]
  },
  {
   "cell_type": "code",
   "execution_count": 0,
   "metadata": {
    "colab": {
     "base_uri": "https://localhost:8080/",
     "height": 884
    },
    "colab_type": "code",
    "id": "wlRmPppzSb7s",
    "outputId": "52957149-bf78-40ab-af07-403e92c4b0df"
   },
   "outputs": [
    {
     "name": "stdout",
     "output_type": "stream",
     "text": [
      " \n",
      " \n",
      " \n",
      "Request \n",
      "f\n",
      "or Proposal (RFP)\n",
      " \n",
      "For\n",
      " \n",
      "Corporate Agency Arrangement for\n",
      " \n",
      "General (03) and Standalone Health Insurance Business (01) \n",
      " \n",
      " \n",
      "Reference Number\n",
      " \n",
      ":\n",
      " \n",
      "IDBI Bank/ 2018\n",
      "-\n",
      "19/TPD/CA/RFP/01\n",
      " \n",
      "Dated\n",
      " \n",
      " \n",
      "            \n",
      ":\n",
      " \n",
      "22.02.2019\n",
      " \n",
      "Issued By\n",
      " \n",
      " \n",
      ":\n",
      " \n",
      "IDBI Bank Limited\n",
      " \n",
      "Head Office\n",
      " \n",
      " \n",
      ":\n",
      " \n",
      "Corporate Centre, Mumbai, IDBI Towers, World Trade\n",
      " \n",
      "                                       \n",
      "Centre\n",
      " \n",
      "Complex, Cuffe Parade, Colaba, Mumbai\n",
      "-\n",
      " \n",
      "400005\n"
     ]
    }
   ],
   "source": [
    "for lines in sentence_list:\n",
    "    print(lines)"
   ]
  },
  {
   "cell_type": "code",
   "execution_count": 0,
   "metadata": {
    "colab": {},
    "colab_type": "code",
    "id": "Un7j6rewSfYZ"
   },
   "outputs": [],
   "source": []
  }
 ],
 "metadata": {
  "colab": {
   "collapsed_sections": [],
   "name": "Copy of work_company21.ipynb",
   "provenance": []
  },
  "kernelspec": {
   "display_name": "Python 3",
   "language": "python",
   "name": "python3"
  },
  "language_info": {
   "codemirror_mode": {
    "name": "ipython",
    "version": 3
   },
   "file_extension": ".py",
   "mimetype": "text/x-python",
   "name": "python",
   "nbconvert_exporter": "python",
   "pygments_lexer": "ipython3",
   "version": "3.7.4"
  }
 },
 "nbformat": 4,
 "nbformat_minor": 1
}
