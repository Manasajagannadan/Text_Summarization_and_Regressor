{
  "nbformat": 4,
  "nbformat_minor": 0,
  "metadata": {
    "colab": {
      "name": "RFP-Corporate-Agency-Arrangement-for-Standalone-Health-Insurance-Business with SpaCy.ipynb",
      "provenance": [],
      "collapsed_sections": []
    },
    "kernelspec": {
      "name": "python3",
      "display_name": "Python 3"
    }
  },
  "cells": [
    {
      "cell_type": "code",
      "metadata": {
        "id": "BMeSienpyCJ7",
        "colab_type": "code",
        "outputId": "71e839b4-0b58-49e4-d1e1-bb2ade93643f",
        "colab": {
          "base_uri": "https://localhost:8080/",
          "height": 360
        }
      },
      "source": [
        "!pip install PyPDF2\n",
        "!pip install docx2txt"
      ],
      "execution_count": 1,
      "outputs": [
        {
          "output_type": "stream",
          "text": [
            "Collecting PyPDF2\n",
            "\u001b[?25l  Downloading https://files.pythonhosted.org/packages/b4/01/68fcc0d43daf4c6bdbc6b33cc3f77bda531c86b174cac56ef0ffdb96faab/PyPDF2-1.26.0.tar.gz (77kB)\n",
            "\r\u001b[K     |████▎                           | 10kB 19.8MB/s eta 0:00:01\r\u001b[K     |████████▌                       | 20kB 6.9MB/s eta 0:00:01\r\u001b[K     |████████████▊                   | 30kB 7.2MB/s eta 0:00:01\r\u001b[K     |█████████████████               | 40kB 6.1MB/s eta 0:00:01\r\u001b[K     |█████████████████████▏          | 51kB 6.5MB/s eta 0:00:01\r\u001b[K     |█████████████████████████▍      | 61kB 7.6MB/s eta 0:00:01\r\u001b[K     |█████████████████████████████▋  | 71kB 8.1MB/s eta 0:00:01\r\u001b[K     |████████████████████████████████| 81kB 4.9MB/s \n",
            "\u001b[?25hBuilding wheels for collected packages: PyPDF2\n",
            "  Building wheel for PyPDF2 (setup.py) ... \u001b[?25l\u001b[?25hdone\n",
            "  Created wheel for PyPDF2: filename=PyPDF2-1.26.0-cp36-none-any.whl size=61085 sha256=b14366bf3a0efe139d4e43b4cfbc26bade83911d8e76b05b65fc5171b25afb70\n",
            "  Stored in directory: /root/.cache/pip/wheels/53/84/19/35bc977c8bf5f0c23a8a011aa958acd4da4bbd7a229315c1b7\n",
            "Successfully built PyPDF2\n",
            "Installing collected packages: PyPDF2\n",
            "Successfully installed PyPDF2-1.26.0\n",
            "Collecting docx2txt\n",
            "  Downloading https://files.pythonhosted.org/packages/7d/7d/60ee3f2b16d9bfdfa72e8599470a2c1a5b759cb113c6fe1006be28359327/docx2txt-0.8.tar.gz\n",
            "Building wheels for collected packages: docx2txt\n",
            "  Building wheel for docx2txt (setup.py) ... \u001b[?25l\u001b[?25hdone\n",
            "  Created wheel for docx2txt: filename=docx2txt-0.8-cp36-none-any.whl size=3965 sha256=cdbb70adbaa1befd67517be08896fa5acc15b9a86606e44683da9c95cbe7988d\n",
            "  Stored in directory: /root/.cache/pip/wheels/b2/1f/26/a051209bbb77fc6bcfae2bb7e01fa0ff941b82292ab084d596\n",
            "Successfully built docx2txt\n",
            "Installing collected packages: docx2txt\n",
            "Successfully installed docx2txt-0.8\n"
          ],
          "name": "stdout"
        }
      ]
    },
    {
      "cell_type": "code",
      "metadata": {
        "id": "NU2gAmJ0y0LP",
        "colab_type": "code",
        "outputId": "4a2c5f88-202a-48f4-82c8-820fbc928f4e",
        "colab": {
          "base_uri": "https://localhost:8080/",
          "height": 122
        }
      },
      "source": [
        "from google.colab import drive\n",
        "drive.mount('/content/drive')"
      ],
      "execution_count": 2,
      "outputs": [
        {
          "output_type": "stream",
          "text": [
            "Go to this URL in a browser: https://accounts.google.com/o/oauth2/auth?client_id=947318989803-6bn6qk8qdgf4n4g3pfee6491hc0brc4i.apps.googleusercontent.com&redirect_uri=urn%3aietf%3awg%3aoauth%3a2.0%3aoob&response_type=code&scope=email%20https%3a%2f%2fwww.googleapis.com%2fauth%2fdocs.test%20https%3a%2f%2fwww.googleapis.com%2fauth%2fdrive%20https%3a%2f%2fwww.googleapis.com%2fauth%2fdrive.photos.readonly%20https%3a%2f%2fwww.googleapis.com%2fauth%2fpeopleapi.readonly\n",
            "\n",
            "Enter your authorization code:\n",
            "··········\n",
            "Mounted at /content/drive\n"
          ],
          "name": "stdout"
        }
      ]
    },
    {
      "cell_type": "markdown",
      "metadata": {
        "id": "OnBElCSX5471",
        "colab_type": "text"
      },
      "source": [
        "# Install and Import the  necessary packages"
      ]
    },
    {
      "cell_type": "code",
      "metadata": {
        "id": "u87U23TRyDWn",
        "colab_type": "code",
        "colab": {}
      },
      "source": [
        "import numpy as np\n",
        "import PyPDF2\n",
        "import docx2txt\n",
        "import sys  "
      ],
      "execution_count": 0,
      "outputs": []
    },
    {
      "cell_type": "code",
      "metadata": {
        "id": "SV2X_ZttyDZX",
        "colab_type": "code",
        "colab": {}
      },
      "source": [
        "import matplotlib.pyplot as plt\n",
        "%matplotlib inline"
      ],
      "execution_count": 0,
      "outputs": []
    },
    {
      "cell_type": "code",
      "metadata": {
        "id": "V1VOy8PmyDdn",
        "colab_type": "code",
        "colab": {}
      },
      "source": [
        "import networkx as nx\n",
        "from nltk.tokenize.punkt import PunktSentenceTokenizer\n",
        "from sklearn.feature_extraction.text import TfidfTransformer, CountVectorizer"
      ],
      "execution_count": 0,
      "outputs": []
    },
    {
      "cell_type": "code",
      "metadata": {
        "id": "vGjS_iBQyDhb",
        "colab_type": "code",
        "colab": {}
      },
      "source": [
        "def readDoc():\n",
        "    name = '/content/drive/My Drive/work/RFP-Corporate-Agency-Arrangement-for-Standalone-Health-Insurance-Business.pdf'\n",
        "    print('You have asked for the document {}'.format(name))\n",
        "    if name.lower().endswith('.txt'):\n",
        "        choice = 1\n",
        "    elif name.lower().endswith('.pdf'):\n",
        "        choice = 2\n",
        "    else:\n",
        "        choice = 3\n",
        "    print(choice)   \n",
        "    if choice == 1:\n",
        "        f = open(name, 'r')\n",
        "        document = f.read()\n",
        "        f.close()\n",
        "    elif choice == 2:\n",
        "        pdfFileObj = open(name, 'rb')\n",
        "        pdfReader = PyPDF2.PdfFileReader(pdfFileObj)\n",
        "        pageObj = pdfReader.getPage(0)\n",
        "        document = pageObj.extractText()\n",
        "        pdfFileObj.close()\n",
        "    else:\n",
        "        print('Failed to load a valid file')\n",
        "        print('Returning an empty string')\n",
        "        document = ''\n",
        "    \n",
        "    print(type(document))\n",
        "    return document"
      ],
      "execution_count": 0,
      "outputs": []
    },
    {
      "cell_type": "code",
      "metadata": {
        "id": "4gn2L-4RyDlG",
        "colab_type": "code",
        "outputId": "373dffe6-7cf5-4793-a20f-a3ada0b4c168",
        "colab": {
          "base_uri": "https://localhost:8080/",
          "height": 105
        }
      },
      "source": [
        "document = readDoc()\n",
        "print('The length of the file is:', end=' ')\n",
        "print(len(document))"
      ],
      "execution_count": 8,
      "outputs": [
        {
          "output_type": "stream",
          "text": [
            "You have asked for the document /content/drive/My Drive/work/RFP-Corporate-Agency-Arrangement-for-Standalone-Health-Insurance-Business.pdf\n",
            "2\n",
            "<class 'str'>\n",
            "The length of the file is: 453\n"
          ],
          "name": "stdout"
        }
      ]
    },
    {
      "cell_type": "code",
      "metadata": {
        "id": "_xJdQhFFyDwx",
        "colab_type": "code",
        "colab": {}
      },
      "source": [
        "def tokenize(document):\n",
        "    doc_tokenizer = PunktSentenceTokenizer()\n",
        "    sentences_list = doc_tokenizer.tokenize(document)\n",
        "    return sentences_list"
      ],
      "execution_count": 0,
      "outputs": []
    },
    {
      "cell_type": "code",
      "metadata": {
        "id": "H8pX4EQZyDzy",
        "colab_type": "code",
        "outputId": "e6229383-bf9b-43ca-e012-cd490a396d95",
        "colab": {
          "base_uri": "https://localhost:8080/",
          "height": 51
        }
      },
      "source": [
        "sentences_list = tokenize(document)\n",
        "print('The size of the list in Bytes is: {}'.format(sys.getsizeof(sentences_list)))\n",
        "print('The size of the item 0 in Bytes is: {}'.format(sys.getsizeof(sentences_list[0])))"
      ],
      "execution_count": 10,
      "outputs": [
        {
          "output_type": "stream",
          "text": [
            "The size of the list in Bytes is: 96\n",
            "The size of the item 0 in Bytes is: 499\n"
          ],
          "name": "stdout"
        }
      ]
    },
    {
      "cell_type": "code",
      "metadata": {
        "id": "3qvGdmFOyDse",
        "colab_type": "code",
        "outputId": "de4d798f-df93-4d6a-f48d-66b937bb01d6",
        "colab": {
          "base_uri": "https://localhost:8080/",
          "height": 34
        }
      },
      "source": [
        "print(type(sentences_list))"
      ],
      "execution_count": 11,
      "outputs": [
        {
          "output_type": "stream",
          "text": [
            "<class 'list'>\n"
          ],
          "name": "stdout"
        }
      ]
    },
    {
      "cell_type": "code",
      "metadata": {
        "id": "ff7KrE-ryDqV",
        "colab_type": "code",
        "outputId": "112f19e9-1adf-40c3-fbf8-842f1887b567",
        "colab": {
          "base_uri": "https://localhost:8080/",
          "height": 34
        }
      },
      "source": [
        "print('The size of the list \"sentences\" is: {}'.format(len(sentences_list)))"
      ],
      "execution_count": 12,
      "outputs": [
        {
          "output_type": "stream",
          "text": [
            "The size of the list \"sentences\" is: 1\n"
          ],
          "name": "stdout"
        }
      ]
    },
    {
      "cell_type": "code",
      "metadata": {
        "id": "Z_-wtdPFyDoc",
        "colab_type": "code",
        "outputId": "ca7be076-eaf3-4b32-e103-6240c753ea67",
        "colab": {
          "base_uri": "https://localhost:8080/",
          "height": 884
        }
      },
      "source": [
        "for i in sentences_list:\n",
        "    print(i)"
      ],
      "execution_count": 13,
      "outputs": [
        {
          "output_type": "stream",
          "text": [
            " \n",
            " \n",
            " \n",
            "Request \n",
            "f\n",
            "or Proposal (RFP)\n",
            " \n",
            "For\n",
            " \n",
            "Corporate Agency Arrangement for\n",
            " \n",
            "General (03) and Standalone Health Insurance Business (01) \n",
            " \n",
            " \n",
            "Reference Number\n",
            " \n",
            ":\n",
            " \n",
            "IDBI Bank/ 2018\n",
            "-\n",
            "19/TPD/CA/RFP/01\n",
            " \n",
            "Dated\n",
            " \n",
            " \n",
            "            \n",
            ":\n",
            " \n",
            "22.02.2019\n",
            " \n",
            "Issued By\n",
            " \n",
            " \n",
            ":\n",
            " \n",
            "IDBI Bank Limited\n",
            " \n",
            "Head Office\n",
            " \n",
            " \n",
            ":\n",
            " \n",
            "Corporate Centre, Mumbai, IDBI Towers, World Trade\n",
            " \n",
            "                                       \n",
            "Centre\n",
            " \n",
            "Complex, Cuffe Parade, Colaba, Mumbai\n",
            "-\n",
            " \n",
            "400005\n"
          ],
          "name": "stdout"
        }
      ]
    },
    {
      "cell_type": "code",
      "metadata": {
        "id": "pyvs2g-iyDjw",
        "colab_type": "code",
        "colab": {}
      },
      "source": [
        "import spacy"
      ],
      "execution_count": 0,
      "outputs": []
    },
    {
      "cell_type": "code",
      "metadata": {
        "id": "-UqVDETSyDgL",
        "colab_type": "code",
        "colab": {}
      },
      "source": [
        "from spacy.lang.en.stop_words import STOP_WORDS\n",
        "from string import punctuation"
      ],
      "execution_count": 0,
      "outputs": []
    },
    {
      "cell_type": "code",
      "metadata": {
        "id": "LxlguJiMyDcl",
        "colab_type": "code",
        "colab": {}
      },
      "source": [
        "stopwords = list(STOP_WORDS)"
      ],
      "execution_count": 0,
      "outputs": []
    },
    {
      "cell_type": "code",
      "metadata": {
        "id": "doStYuNt1Cpj",
        "colab_type": "code",
        "colab": {}
      },
      "source": [
        "nlp = spacy.load('en')"
      ],
      "execution_count": 0,
      "outputs": []
    },
    {
      "cell_type": "code",
      "metadata": {
        "id": "J8QCXSna1FJ6",
        "colab_type": "code",
        "colab": {}
      },
      "source": [
        "docx = nlp(document)"
      ],
      "execution_count": 0,
      "outputs": []
    },
    {
      "cell_type": "code",
      "metadata": {
        "id": "evbltZEF1Hkr",
        "colab_type": "code",
        "colab": {}
      },
      "source": [
        "mytokens = [token.text for token in docx]"
      ],
      "execution_count": 0,
      "outputs": []
    },
    {
      "cell_type": "code",
      "metadata": {
        "id": "JU_buox81JiF",
        "colab_type": "code",
        "colab": {}
      },
      "source": [
        "# word.text is tokenization in spacy\n",
        "word_frequencies = {}\n",
        "for word in docx:\n",
        "    if word.text not in stopwords:\n",
        "            if word.text not in word_frequencies.keys():\n",
        "                word_frequencies[word.text] = 1\n",
        "            else:\n",
        "                word_frequencies[word.text] += 1"
      ],
      "execution_count": 0,
      "outputs": []
    },
    {
      "cell_type": "code",
      "metadata": {
        "id": "8E5Mhlc51L06",
        "colab_type": "code",
        "outputId": "cca46c08-cee3-4e2c-8548-798192014b5e",
        "colab": {
          "base_uri": "https://localhost:8080/",
          "height": 918
        }
      },
      "source": [
        "word_frequencies"
      ],
      "execution_count": 21,
      "outputs": [
        {
          "output_type": "execute_result",
          "data": {
            "text/plain": [
              "{'\\n': 5,\n",
              " '\\n \\n': 14,\n",
              " '\\n \\n \\n': 3,\n",
              " '\\n \\n \\n            \\n': 1,\n",
              " '\\n \\n                                       \\n': 1,\n",
              " ' \\n \\n \\n': 1,\n",
              " '(': 3,\n",
              " ')': 3,\n",
              " ',': 6,\n",
              " '-': 2,\n",
              " '/': 2,\n",
              " '01': 1,\n",
              " '03': 1,\n",
              " '19/TPD': 1,\n",
              " '2018': 1,\n",
              " '22.02.2019': 1,\n",
              " '400005': 1,\n",
              " ':': 4,\n",
              " 'Agency': 1,\n",
              " 'Arrangement': 1,\n",
              " 'Bank': 1,\n",
              " 'Bank/': 1,\n",
              " 'Business': 1,\n",
              " 'By': 1,\n",
              " 'CA': 1,\n",
              " 'Centre': 2,\n",
              " 'Colaba': 1,\n",
              " 'Complex': 1,\n",
              " 'Corporate': 2,\n",
              " 'Cuffe': 1,\n",
              " 'Dated': 1,\n",
              " 'For': 1,\n",
              " 'General': 1,\n",
              " 'Head': 1,\n",
              " 'Health': 1,\n",
              " 'IDBI': 3,\n",
              " 'Insurance': 1,\n",
              " 'Issued': 1,\n",
              " 'Limited': 1,\n",
              " 'Mumbai': 2,\n",
              " 'Number': 1,\n",
              " 'Office': 1,\n",
              " 'Parade': 1,\n",
              " 'Proposal': 1,\n",
              " 'RFP': 1,\n",
              " 'RFP/01': 1,\n",
              " 'Reference': 1,\n",
              " 'Request': 1,\n",
              " 'Standalone': 1,\n",
              " 'Towers': 1,\n",
              " 'Trade': 1,\n",
              " 'World': 1,\n",
              " 'f': 1}"
            ]
          },
          "metadata": {
            "tags": []
          },
          "execution_count": 21
        }
      ]
    },
    {
      "cell_type": "code",
      "metadata": {
        "id": "_apFv62M1Nd6",
        "colab_type": "code",
        "colab": {}
      },
      "source": [
        "maximum_frequency = max(word_frequencies.values())"
      ],
      "execution_count": 0,
      "outputs": []
    },
    {
      "cell_type": "code",
      "metadata": {
        "id": "KlmpGizh1RrR",
        "colab_type": "code",
        "colab": {}
      },
      "source": [
        "\n",
        "for word in word_frequencies.keys():  \n",
        "        word_frequencies[word] = (word_frequencies[word]/maximum_frequency)"
      ],
      "execution_count": 0,
      "outputs": []
    },
    {
      "cell_type": "code",
      "metadata": {
        "id": "0RmIp4uc1T4V",
        "colab_type": "code",
        "outputId": "eace414f-dd91-425a-c247-45c655f11d82",
        "colab": {
          "base_uri": "https://localhost:8080/",
          "height": 918
        }
      },
      "source": [
        "word_frequencies"
      ],
      "execution_count": 24,
      "outputs": [
        {
          "output_type": "execute_result",
          "data": {
            "text/plain": [
              "{'\\n': 0.35714285714285715,\n",
              " '\\n \\n': 1.0,\n",
              " '\\n \\n \\n': 0.21428571428571427,\n",
              " '\\n \\n \\n            \\n': 0.07142857142857142,\n",
              " '\\n \\n                                       \\n': 0.07142857142857142,\n",
              " ' \\n \\n \\n': 0.07142857142857142,\n",
              " '(': 0.21428571428571427,\n",
              " ')': 0.21428571428571427,\n",
              " ',': 0.42857142857142855,\n",
              " '-': 0.14285714285714285,\n",
              " '/': 0.14285714285714285,\n",
              " '01': 0.07142857142857142,\n",
              " '03': 0.07142857142857142,\n",
              " '19/TPD': 0.07142857142857142,\n",
              " '2018': 0.07142857142857142,\n",
              " '22.02.2019': 0.07142857142857142,\n",
              " '400005': 0.07142857142857142,\n",
              " ':': 0.2857142857142857,\n",
              " 'Agency': 0.07142857142857142,\n",
              " 'Arrangement': 0.07142857142857142,\n",
              " 'Bank': 0.07142857142857142,\n",
              " 'Bank/': 0.07142857142857142,\n",
              " 'Business': 0.07142857142857142,\n",
              " 'By': 0.07142857142857142,\n",
              " 'CA': 0.07142857142857142,\n",
              " 'Centre': 0.14285714285714285,\n",
              " 'Colaba': 0.07142857142857142,\n",
              " 'Complex': 0.07142857142857142,\n",
              " 'Corporate': 0.14285714285714285,\n",
              " 'Cuffe': 0.07142857142857142,\n",
              " 'Dated': 0.07142857142857142,\n",
              " 'For': 0.07142857142857142,\n",
              " 'General': 0.07142857142857142,\n",
              " 'Head': 0.07142857142857142,\n",
              " 'Health': 0.07142857142857142,\n",
              " 'IDBI': 0.21428571428571427,\n",
              " 'Insurance': 0.07142857142857142,\n",
              " 'Issued': 0.07142857142857142,\n",
              " 'Limited': 0.07142857142857142,\n",
              " 'Mumbai': 0.14285714285714285,\n",
              " 'Number': 0.07142857142857142,\n",
              " 'Office': 0.07142857142857142,\n",
              " 'Parade': 0.07142857142857142,\n",
              " 'Proposal': 0.07142857142857142,\n",
              " 'RFP': 0.07142857142857142,\n",
              " 'RFP/01': 0.07142857142857142,\n",
              " 'Reference': 0.07142857142857142,\n",
              " 'Request': 0.07142857142857142,\n",
              " 'Standalone': 0.07142857142857142,\n",
              " 'Towers': 0.07142857142857142,\n",
              " 'Trade': 0.07142857142857142,\n",
              " 'World': 0.07142857142857142,\n",
              " 'f': 0.07142857142857142}"
            ]
          },
          "metadata": {
            "tags": []
          },
          "execution_count": 24
        }
      ]
    },
    {
      "cell_type": "code",
      "metadata": {
        "id": "QfDlAp231WYG",
        "colab_type": "code",
        "colab": {}
      },
      "source": [
        "sentence_list = [ sentence for sentence in docx.sents ]"
      ],
      "execution_count": 0,
      "outputs": []
    },
    {
      "cell_type": "code",
      "metadata": {
        "id": "howS-ovs1Y0G",
        "colab_type": "code",
        "outputId": "a931a18c-3afe-4bc2-a038-9c4481bf9914",
        "colab": {
          "base_uri": "https://localhost:8080/",
          "height": 1000
        }
      },
      "source": [
        "[w.text.lower() for t in sentence_list for w in t ]"
      ],
      "execution_count": 26,
      "outputs": [
        {
          "output_type": "execute_result",
          "data": {
            "text/plain": [
              "[' \\n \\n \\n',\n",
              " 'request',\n",
              " '\\n',\n",
              " 'f',\n",
              " '\\n',\n",
              " 'or',\n",
              " 'proposal',\n",
              " '(',\n",
              " 'rfp',\n",
              " ')',\n",
              " '\\n \\n',\n",
              " 'for',\n",
              " '\\n \\n',\n",
              " 'corporate',\n",
              " 'agency',\n",
              " 'arrangement',\n",
              " 'for',\n",
              " '\\n \\n',\n",
              " 'general',\n",
              " '(',\n",
              " '03',\n",
              " ')',\n",
              " 'and',\n",
              " 'standalone',\n",
              " 'health',\n",
              " 'insurance',\n",
              " 'business',\n",
              " '(',\n",
              " '01',\n",
              " ')',\n",
              " '\\n \\n \\n',\n",
              " 'reference',\n",
              " 'number',\n",
              " '\\n \\n',\n",
              " ':',\n",
              " '\\n \\n',\n",
              " 'idbi',\n",
              " 'bank/',\n",
              " '2018',\n",
              " '\\n',\n",
              " '-',\n",
              " '\\n',\n",
              " '19/tpd',\n",
              " '/',\n",
              " 'ca',\n",
              " '/',\n",
              " 'rfp/01',\n",
              " '\\n \\n',\n",
              " 'dated',\n",
              " '\\n \\n \\n            \\n',\n",
              " ':',\n",
              " '\\n \\n',\n",
              " '22.02.2019',\n",
              " '\\n \\n',\n",
              " 'issued',\n",
              " 'by',\n",
              " '\\n \\n \\n',\n",
              " ':',\n",
              " '\\n \\n',\n",
              " 'idbi',\n",
              " 'bank',\n",
              " 'limited',\n",
              " '\\n \\n',\n",
              " 'head',\n",
              " 'office',\n",
              " '\\n \\n \\n',\n",
              " ':',\n",
              " '\\n \\n',\n",
              " 'corporate',\n",
              " 'centre',\n",
              " ',',\n",
              " 'mumbai',\n",
              " ',',\n",
              " 'idbi',\n",
              " 'towers',\n",
              " ',',\n",
              " 'world',\n",
              " 'trade',\n",
              " '\\n \\n                                       \\n',\n",
              " 'centre',\n",
              " '\\n \\n',\n",
              " 'complex',\n",
              " ',',\n",
              " 'cuffe',\n",
              " 'parade',\n",
              " ',',\n",
              " 'colaba',\n",
              " ',',\n",
              " 'mumbai',\n",
              " '\\n',\n",
              " '-',\n",
              " '\\n \\n',\n",
              " '400005',\n",
              " '\\n \\n']"
            ]
          },
          "metadata": {
            "tags": []
          },
          "execution_count": 26
        }
      ]
    },
    {
      "cell_type": "code",
      "metadata": {
        "id": "29V1F0mJ1cN0",
        "colab_type": "code",
        "colab": {}
      },
      "source": [
        "sentence_scores = {}  \n",
        "for sent in sentence_list:  \n",
        "        for word in sent:\n",
        "            if word.text.lower() in word_frequencies.keys():\n",
        "                if len(sent.text.split(' ')) < 30:\n",
        "                    if sent not in sentence_scores.keys():\n",
        "                        sentence_scores[sent] = word_frequencies[word.text.lower()]\n",
        "                    else:\n",
        "                        sentence_scores[sent] += word_frequencies[word.text.lower()]"
      ],
      "execution_count": 0,
      "outputs": []
    },
    {
      "cell_type": "code",
      "metadata": {
        "id": "_Hs54EPG1hzy",
        "colab_type": "code",
        "outputId": "120f1a5d-b92e-45aa-a6a0-03362314f69b",
        "colab": {
          "base_uri": "https://localhost:8080/",
          "height": 629
        }
      },
      "source": [
        "sentence_scores"
      ],
      "execution_count": 28,
      "outputs": [
        {
          "output_type": "execute_result",
          "data": {
            "text/plain": [
              "{ \n",
              "  \n",
              "  \n",
              " Request \n",
              " f\n",
              " or Proposal (RFP)\n",
              "  : 2.2857142857142856, For\n",
              "  \n",
              " Corporate Agency Arrangement for\n",
              "  \n",
              " General (03) and Standalone Health Insurance Business (01) \n",
              "  \n",
              "  \n",
              " Reference Number\n",
              "  \n",
              " :\n",
              "  : 5.500000000000001, IDBI Bank/ 2018\n",
              " -\n",
              " 19/TPD/CA/RFP/01\n",
              "  : 2.2142857142857144, Dated\n",
              "  \n",
              "  \n",
              "             \n",
              " :\n",
              "  : 1.3571428571428572, 22.02.2019\n",
              "  : 1.0714285714285714, Issued By\n",
              "  \n",
              "  \n",
              " :\n",
              "  : 1.5, IDBI Bank Limited\n",
              "  \n",
              " Head Office\n",
              "  \n",
              "  \n",
              " :\n",
              "  : 2.5}"
            ]
          },
          "metadata": {
            "tags": []
          },
          "execution_count": 28
        }
      ]
    },
    {
      "cell_type": "code",
      "metadata": {
        "id": "gCCS6pe91mAR",
        "colab_type": "code",
        "colab": {}
      },
      "source": [
        ""
      ],
      "execution_count": 0,
      "outputs": []
    }
  ]
}