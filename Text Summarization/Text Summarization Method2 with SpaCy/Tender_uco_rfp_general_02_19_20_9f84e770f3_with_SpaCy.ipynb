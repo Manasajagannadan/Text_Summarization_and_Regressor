{
  "nbformat": 4,
  "nbformat_minor": 0,
  "metadata": {
    "colab": {
      "name": "Tender_uco_rfp_general_02_19_20_9f84e770f3 with SpaCy.ipynb",
      "provenance": [],
      "collapsed_sections": []
    },
    "kernelspec": {
      "name": "python3",
      "display_name": "Python 3"
    }
  },
  "cells": [
    {
      "cell_type": "code",
      "metadata": {
        "id": "BMeSienpyCJ7",
        "colab_type": "code",
        "outputId": "72395895-2178-4fa0-f525-691981c86c4b",
        "colab": {
          "base_uri": "https://localhost:8080/",
          "height": 360
        }
      },
      "source": [
        "!pip install PyPDF2\n",
        "!pip install docx2txt"
      ],
      "execution_count": 1,
      "outputs": [
        {
          "output_type": "stream",
          "text": [
            "Collecting PyPDF2\n",
            "\u001b[?25l  Downloading https://files.pythonhosted.org/packages/b4/01/68fcc0d43daf4c6bdbc6b33cc3f77bda531c86b174cac56ef0ffdb96faab/PyPDF2-1.26.0.tar.gz (77kB)\n",
            "\r\u001b[K     |████▎                           | 10kB 19.5MB/s eta 0:00:01\r\u001b[K     |████████▌                       | 20kB 6.3MB/s eta 0:00:01\r\u001b[K     |████████████▊                   | 30kB 7.0MB/s eta 0:00:01\r\u001b[K     |█████████████████               | 40kB 5.7MB/s eta 0:00:01\r\u001b[K     |█████████████████████▏          | 51kB 6.2MB/s eta 0:00:01\r\u001b[K     |█████████████████████████▍      | 61kB 7.3MB/s eta 0:00:01\r\u001b[K     |█████████████████████████████▋  | 71kB 7.9MB/s eta 0:00:01\r\u001b[K     |████████████████████████████████| 81kB 5.2MB/s \n",
            "\u001b[?25hBuilding wheels for collected packages: PyPDF2\n",
            "  Building wheel for PyPDF2 (setup.py) ... \u001b[?25l\u001b[?25hdone\n",
            "  Created wheel for PyPDF2: filename=PyPDF2-1.26.0-cp36-none-any.whl size=61085 sha256=23c6ecec1d10174e77ee8b7e74e9a4ddd5a1373b8e31ba8c902d4e44da3e06de\n",
            "  Stored in directory: /root/.cache/pip/wheels/53/84/19/35bc977c8bf5f0c23a8a011aa958acd4da4bbd7a229315c1b7\n",
            "Successfully built PyPDF2\n",
            "Installing collected packages: PyPDF2\n",
            "Successfully installed PyPDF2-1.26.0\n",
            "Collecting docx2txt\n",
            "  Downloading https://files.pythonhosted.org/packages/7d/7d/60ee3f2b16d9bfdfa72e8599470a2c1a5b759cb113c6fe1006be28359327/docx2txt-0.8.tar.gz\n",
            "Building wheels for collected packages: docx2txt\n",
            "  Building wheel for docx2txt (setup.py) ... \u001b[?25l\u001b[?25hdone\n",
            "  Created wheel for docx2txt: filename=docx2txt-0.8-cp36-none-any.whl size=3965 sha256=1ebb37372f8051dd21f59fe1d3d2c66cb633675c43b0f559bb11d1db9636bf2a\n",
            "  Stored in directory: /root/.cache/pip/wheels/b2/1f/26/a051209bbb77fc6bcfae2bb7e01fa0ff941b82292ab084d596\n",
            "Successfully built docx2txt\n",
            "Installing collected packages: docx2txt\n",
            "Successfully installed docx2txt-0.8\n"
          ],
          "name": "stdout"
        }
      ]
    },
    {
      "cell_type": "markdown",
      "metadata": {
        "id": "Z7TruC085_si",
        "colab_type": "text"
      },
      "source": [
        "# Install and Import the  necessary packages"
      ]
    },
    {
      "cell_type": "code",
      "metadata": {
        "id": "NU2gAmJ0y0LP",
        "colab_type": "code",
        "outputId": "852db62e-7a1b-4d26-8112-dc0c882c7b2c",
        "colab": {
          "base_uri": "https://localhost:8080/",
          "height": 122
        }
      },
      "source": [
        "from google.colab import drive\n",
        "drive.mount('/content/drive')"
      ],
      "execution_count": 2,
      "outputs": [
        {
          "output_type": "stream",
          "text": [
            "Go to this URL in a browser: https://accounts.google.com/o/oauth2/auth?client_id=947318989803-6bn6qk8qdgf4n4g3pfee6491hc0brc4i.apps.googleusercontent.com&redirect_uri=urn%3aietf%3awg%3aoauth%3a2.0%3aoob&response_type=code&scope=email%20https%3a%2f%2fwww.googleapis.com%2fauth%2fdocs.test%20https%3a%2f%2fwww.googleapis.com%2fauth%2fdrive%20https%3a%2f%2fwww.googleapis.com%2fauth%2fdrive.photos.readonly%20https%3a%2f%2fwww.googleapis.com%2fauth%2fpeopleapi.readonly\n",
            "\n",
            "Enter your authorization code:\n",
            "··········\n",
            "Mounted at /content/drive\n"
          ],
          "name": "stdout"
        }
      ]
    },
    {
      "cell_type": "code",
      "metadata": {
        "id": "u87U23TRyDWn",
        "colab_type": "code",
        "colab": {}
      },
      "source": [
        "import numpy as np\n",
        "import PyPDF2\n",
        "import docx2txt\n",
        "import sys  "
      ],
      "execution_count": 0,
      "outputs": []
    },
    {
      "cell_type": "code",
      "metadata": {
        "id": "SV2X_ZttyDZX",
        "colab_type": "code",
        "colab": {}
      },
      "source": [
        "import matplotlib.pyplot as plt\n",
        "%matplotlib inline"
      ],
      "execution_count": 0,
      "outputs": []
    },
    {
      "cell_type": "code",
      "metadata": {
        "id": "V1VOy8PmyDdn",
        "colab_type": "code",
        "colab": {}
      },
      "source": [
        "import networkx as nx\n",
        "from nltk.tokenize.punkt import PunktSentenceTokenizer\n",
        "from sklearn.feature_extraction.text import TfidfTransformer, CountVectorizer"
      ],
      "execution_count": 0,
      "outputs": []
    },
    {
      "cell_type": "code",
      "metadata": {
        "id": "vGjS_iBQyDhb",
        "colab_type": "code",
        "colab": {}
      },
      "source": [
        "def readDoc():\n",
        "    name = '/content/drive/My Drive/work/Tender_uco_rfp_general_02_19_20_9f84e770f3.pdf'\n",
        "    print('You have asked for the document {}'.format(name))\n",
        "    if name.lower().endswith('.txt'):\n",
        "        choice = 1\n",
        "    elif name.lower().endswith('.pdf'):\n",
        "        choice = 2\n",
        "    else:\n",
        "        choice = 3\n",
        "    print(choice)   \n",
        "    if choice == 1:\n",
        "        f = open(name, 'r')\n",
        "        document = f.read()\n",
        "        f.close()\n",
        "    elif choice == 2:\n",
        "        pdfFileObj = open(name, 'rb')\n",
        "        pdfReader = PyPDF2.PdfFileReader(pdfFileObj)\n",
        "        pageObj = pdfReader.getPage(0)\n",
        "        document = pageObj.extractText()\n",
        "        pdfFileObj.close()\n",
        "    else:\n",
        "        print('Failed to load a valid file')\n",
        "        print('Returning an empty string')\n",
        "        document = ''\n",
        "    \n",
        "    print(type(document))\n",
        "    return document"
      ],
      "execution_count": 0,
      "outputs": []
    },
    {
      "cell_type": "code",
      "metadata": {
        "id": "4gn2L-4RyDlG",
        "colab_type": "code",
        "outputId": "96d86962-2652-4084-f23e-1e11e2a92d53",
        "colab": {
          "base_uri": "https://localhost:8080/",
          "height": 85
        }
      },
      "source": [
        "document = readDoc()\n",
        "print('The length of the file is:', end=' ')\n",
        "print(len(document))"
      ],
      "execution_count": 8,
      "outputs": [
        {
          "output_type": "stream",
          "text": [
            "You have asked for the document /content/drive/My Drive/work/Tender_uco_rfp_general_02_19_20_9f84e770f3.pdf\n",
            "2\n",
            "<class 'str'>\n",
            "The length of the file is: 962\n"
          ],
          "name": "stdout"
        }
      ]
    },
    {
      "cell_type": "code",
      "metadata": {
        "id": "_xJdQhFFyDwx",
        "colab_type": "code",
        "colab": {}
      },
      "source": [
        "def tokenize(document):\n",
        "    doc_tokenizer = PunktSentenceTokenizer()\n",
        "    sentences_list = doc_tokenizer.tokenize(document)\n",
        "    return sentences_list"
      ],
      "execution_count": 0,
      "outputs": []
    },
    {
      "cell_type": "code",
      "metadata": {
        "id": "H8pX4EQZyDzy",
        "colab_type": "code",
        "outputId": "152957ce-8c06-46e5-abab-229b1a765c70",
        "colab": {
          "base_uri": "https://localhost:8080/",
          "height": 51
        }
      },
      "source": [
        "sentences_list = tokenize(document)\n",
        "print('The size of the list in Bytes is: {}'.format(sys.getsizeof(sentences_list)))\n",
        "print('The size of the item 0 in Bytes is: {}'.format(sys.getsizeof(sentences_list[0])))"
      ],
      "execution_count": 10,
      "outputs": [
        {
          "output_type": "stream",
          "text": [
            "The size of the list in Bytes is: 128\n",
            "The size of the item 0 in Bytes is: 393\n"
          ],
          "name": "stdout"
        }
      ]
    },
    {
      "cell_type": "code",
      "metadata": {
        "id": "3qvGdmFOyDse",
        "colab_type": "code",
        "outputId": "f270f001-05c4-48d4-8cb5-6dab6c53b609",
        "colab": {
          "base_uri": "https://localhost:8080/",
          "height": 34
        }
      },
      "source": [
        "print(type(sentences_list))"
      ],
      "execution_count": 11,
      "outputs": [
        {
          "output_type": "stream",
          "text": [
            "<class 'list'>\n"
          ],
          "name": "stdout"
        }
      ]
    },
    {
      "cell_type": "code",
      "metadata": {
        "id": "ff7KrE-ryDqV",
        "colab_type": "code",
        "outputId": "05bfd485-bf36-4ab6-b359-61b8fd7dd2da",
        "colab": {
          "base_uri": "https://localhost:8080/",
          "height": 34
        }
      },
      "source": [
        "print('The size of the list \"sentences\" is: {}'.format(len(sentences_list)))"
      ],
      "execution_count": 12,
      "outputs": [
        {
          "output_type": "stream",
          "text": [
            "The size of the list \"sentences\" is: 5\n"
          ],
          "name": "stdout"
        }
      ]
    },
    {
      "cell_type": "code",
      "metadata": {
        "id": "Z_-wtdPFyDoc",
        "colab_type": "code",
        "outputId": "7e0ac1b1-be1d-4fbc-d491-9a2cbc7cecca",
        "colab": {
          "base_uri": "https://localhost:8080/",
          "height": 1000
        }
      },
      "source": [
        "for i in sentences_list:\n",
        "    print(i)"
      ],
      "execution_count": 13,
      "outputs": [
        {
          "output_type": "stream",
          "text": [
            "1\n",
            " \n",
            " \n",
            " \n",
            " \n",
            " \n",
            " \n",
            " \n",
            " \n",
            "Request for Proposal (RFP)\n",
            " \n",
            "for\n",
            " \n",
            "Corporate Agency Arrangement for\n",
            " \n",
            "General Insurance Business\n",
            " \n",
            " \n",
            "Reference Number\n",
            " \n",
            ":   UCO/IMW/RFP/02/2019\n",
            "-\n",
            "20\n",
            " \n",
            " \n",
            "Dated\n",
            " \n",
            ":    \n",
            "1\n",
            "8\n",
            "/\n",
            "09\n",
            "/2019\n",
            " \n",
            " \n",
            " \n",
            "The information provided by the Bidders in response to this RFP Document will become \n",
            "the\n",
            " \n",
            "property of the Bank and will not be returned.\n",
            "The Bank reserves the right to amend, \n",
            "rescind, reissue this RFP Document and all amendments will be advised to the \n",
            "\n",
            "The Bank al\n",
            "so reserves its right to accept or reject any or all the responses to this RFP \n",
            "Document without assigning any reason whatsoever and without any cost and \n",
            "compensation thereof.\n",
            "This document is prepared by UCO Bank for Implementation of Corporate Agency \n",
            "Arr\n",
            "angement for \n",
            "General\n",
            " \n",
            "Insurance Business.\n",
            "It should not be reused or copied or used \n",
            "either partially or fully in any form.\n",
            "UCO BANK\n",
            " \n",
            "HEAD OFFICE: 10, B T M Sarani, Kolkata \n",
            "\n",
            " \n",
            "700 001\n",
            " \n",
            "(State \n",
            "-\n",
            " \n",
            "West Bengal)\n"
          ],
          "name": "stdout"
        }
      ]
    },
    {
      "cell_type": "code",
      "metadata": {
        "id": "pyvs2g-iyDjw",
        "colab_type": "code",
        "colab": {}
      },
      "source": [
        "import spacy"
      ],
      "execution_count": 0,
      "outputs": []
    },
    {
      "cell_type": "code",
      "metadata": {
        "id": "-UqVDETSyDgL",
        "colab_type": "code",
        "colab": {}
      },
      "source": [
        "from spacy.lang.en.stop_words import STOP_WORDS\n",
        "from string import punctuation"
      ],
      "execution_count": 0,
      "outputs": []
    },
    {
      "cell_type": "code",
      "metadata": {
        "id": "LxlguJiMyDcl",
        "colab_type": "code",
        "colab": {}
      },
      "source": [
        "stopwords = list(STOP_WORDS)"
      ],
      "execution_count": 0,
      "outputs": []
    },
    {
      "cell_type": "code",
      "metadata": {
        "id": "doStYuNt1Cpj",
        "colab_type": "code",
        "colab": {}
      },
      "source": [
        "nlp = spacy.load('en')"
      ],
      "execution_count": 0,
      "outputs": []
    },
    {
      "cell_type": "code",
      "metadata": {
        "id": "J8QCXSna1FJ6",
        "colab_type": "code",
        "colab": {}
      },
      "source": [
        "docx = nlp(document)"
      ],
      "execution_count": 0,
      "outputs": []
    },
    {
      "cell_type": "code",
      "metadata": {
        "id": "evbltZEF1Hkr",
        "colab_type": "code",
        "colab": {}
      },
      "source": [
        "mytokens = [token.text for token in docx]"
      ],
      "execution_count": 0,
      "outputs": []
    },
    {
      "cell_type": "code",
      "metadata": {
        "id": "JU_buox81JiF",
        "colab_type": "code",
        "colab": {}
      },
      "source": [
        "# word.text is tokenization in spacy\n",
        "word_frequencies = {}\n",
        "for word in docx:\n",
        "    if word.text not in stopwords:\n",
        "            if word.text not in word_frequencies.keys():\n",
        "                word_frequencies[word.text] = 1\n",
        "            else:\n",
        "                word_frequencies[word.text] += 1"
      ],
      "execution_count": 0,
      "outputs": []
    },
    {
      "cell_type": "code",
      "metadata": {
        "id": "8E5Mhlc51L06",
        "colab_type": "code",
        "outputId": "b56951b7-43d2-4a58-908f-7b2e897443fe",
        "colab": {
          "base_uri": "https://localhost:8080/",
          "height": 1000
        }
      },
      "source": [
        "word_frequencies"
      ],
      "execution_count": 21,
      "outputs": [
        {
          "output_type": "execute_result",
          "data": {
            "text/plain": [
              "{'\\n': 16,\n",
              " '\\n\\n': 1,\n",
              " '\\n\\n \\n': 1,\n",
              " '\\n \\n': 12,\n",
              " '\\n \\n \\n': 2,\n",
              " '\\n \\n \\n \\n': 1,\n",
              " '\\n \\n \\n \\n \\n': 1,\n",
              " '\\n \\n \\n \\n \\n \\n \\n \\n \\n': 1,\n",
              " '  ': 1,\n",
              " '   \\n': 1,\n",
              " '(': 2,\n",
              " ')': 2,\n",
              " ',': 4,\n",
              " '-': 2,\n",
              " '.': 4,\n",
              " '/': 3,\n",
              " '/2019': 1,\n",
              " '001': 1,\n",
              " '09': 1,\n",
              " '1': 2,\n",
              " '10': 1,\n",
              " '20': 1,\n",
              " '700': 1,\n",
              " '8': 1,\n",
              " ':': 3,\n",
              " 'Agency': 2,\n",
              " 'Arr': 1,\n",
              " 'Arrangement': 1,\n",
              " 'B': 1,\n",
              " 'BANK': 1,\n",
              " 'Bank': 4,\n",
              " 'Bengal': 1,\n",
              " 'Bidders': 1,\n",
              " 'Business': 2,\n",
              " 'Corporate': 2,\n",
              " 'Dated': 1,\n",
              " 'Document': 3,\n",
              " 'General': 2,\n",
              " 'HEAD': 1,\n",
              " 'IMW': 1,\n",
              " 'Implementation': 1,\n",
              " 'Insurance': 2,\n",
              " 'It': 1,\n",
              " 'Kolkata': 1,\n",
              " 'M': 1,\n",
              " 'Number': 1,\n",
              " 'OFFICE': 1,\n",
              " 'Proposal': 1,\n",
              " 'RFP': 4,\n",
              " 'RFP/02/2019': 1,\n",
              " 'Reference': 1,\n",
              " 'Request': 1,\n",
              " 'Sarani': 1,\n",
              " 'State': 1,\n",
              " 'T': 1,\n",
              " 'The': 3,\n",
              " 'This': 1,\n",
              " 'UCO': 3,\n",
              " 'West': 1,\n",
              " 'accept': 1,\n",
              " 'advised': 1,\n",
              " 'al': 1,\n",
              " 'amend': 1,\n",
              " 'amendments': 1,\n",
              " 'angement': 1,\n",
              " 'assigning': 1,\n",
              " 'compensation': 1,\n",
              " 'copied': 1,\n",
              " 'cost': 1,\n",
              " 'document': 1,\n",
              " 'form': 1,\n",
              " 'fully': 1,\n",
              " 'information': 1,\n",
              " 'partially': 1,\n",
              " 'prepared': 1,\n",
              " 'property': 1,\n",
              " 'provided': 1,\n",
              " 'reason': 1,\n",
              " 'reissue': 1,\n",
              " 'reject': 1,\n",
              " 'rescind': 1,\n",
              " 'reserves': 2,\n",
              " 'response': 1,\n",
              " 'responses': 1,\n",
              " 'returned': 1,\n",
              " 'reused': 1,\n",
              " 'right': 2,\n",
              " 'thereof': 1,\n",
              " 'whatsoever': 1}"
            ]
          },
          "metadata": {
            "tags": []
          },
          "execution_count": 21
        }
      ]
    },
    {
      "cell_type": "code",
      "metadata": {
        "id": "_apFv62M1Nd6",
        "colab_type": "code",
        "colab": {}
      },
      "source": [
        "maximum_frequency = max(word_frequencies.values())"
      ],
      "execution_count": 0,
      "outputs": []
    },
    {
      "cell_type": "code",
      "metadata": {
        "id": "KlmpGizh1RrR",
        "colab_type": "code",
        "colab": {}
      },
      "source": [
        "\n",
        "for word in word_frequencies.keys():  \n",
        "        word_frequencies[word] = (word_frequencies[word]/maximum_frequency)"
      ],
      "execution_count": 0,
      "outputs": []
    },
    {
      "cell_type": "code",
      "metadata": {
        "id": "0RmIp4uc1T4V",
        "colab_type": "code",
        "outputId": "9c78b6f9-8d6f-43eb-b0c7-d05798060c82",
        "colab": {
          "base_uri": "https://localhost:8080/",
          "height": 1000
        }
      },
      "source": [
        "word_frequencies"
      ],
      "execution_count": 24,
      "outputs": [
        {
          "output_type": "execute_result",
          "data": {
            "text/plain": [
              "{'\\n': 1.0,\n",
              " '\\n\\n': 0.0625,\n",
              " '\\n\\n \\n': 0.0625,\n",
              " '\\n \\n': 0.75,\n",
              " '\\n \\n \\n': 0.125,\n",
              " '\\n \\n \\n \\n': 0.0625,\n",
              " '\\n \\n \\n \\n \\n': 0.0625,\n",
              " '\\n \\n \\n \\n \\n \\n \\n \\n \\n': 0.0625,\n",
              " '  ': 0.0625,\n",
              " '   \\n': 0.0625,\n",
              " '(': 0.125,\n",
              " ')': 0.125,\n",
              " ',': 0.25,\n",
              " '-': 0.125,\n",
              " '.': 0.25,\n",
              " '/': 0.1875,\n",
              " '/2019': 0.0625,\n",
              " '001': 0.0625,\n",
              " '09': 0.0625,\n",
              " '1': 0.125,\n",
              " '10': 0.0625,\n",
              " '20': 0.0625,\n",
              " '700': 0.0625,\n",
              " '8': 0.0625,\n",
              " ':': 0.1875,\n",
              " 'Agency': 0.125,\n",
              " 'Arr': 0.0625,\n",
              " 'Arrangement': 0.0625,\n",
              " 'B': 0.0625,\n",
              " 'BANK': 0.0625,\n",
              " 'Bank': 0.25,\n",
              " 'Bengal': 0.0625,\n",
              " 'Bidders': 0.0625,\n",
              " 'Business': 0.125,\n",
              " 'Corporate': 0.125,\n",
              " 'Dated': 0.0625,\n",
              " 'Document': 0.1875,\n",
              " 'General': 0.125,\n",
              " 'HEAD': 0.0625,\n",
              " 'IMW': 0.0625,\n",
              " 'Implementation': 0.0625,\n",
              " 'Insurance': 0.125,\n",
              " 'It': 0.0625,\n",
              " 'Kolkata': 0.0625,\n",
              " 'M': 0.0625,\n",
              " 'Number': 0.0625,\n",
              " 'OFFICE': 0.0625,\n",
              " 'Proposal': 0.0625,\n",
              " 'RFP': 0.25,\n",
              " 'RFP/02/2019': 0.0625,\n",
              " 'Reference': 0.0625,\n",
              " 'Request': 0.0625,\n",
              " 'Sarani': 0.0625,\n",
              " 'State': 0.0625,\n",
              " 'T': 0.0625,\n",
              " 'The': 0.1875,\n",
              " 'This': 0.0625,\n",
              " 'UCO': 0.1875,\n",
              " 'West': 0.0625,\n",
              " 'accept': 0.0625,\n",
              " 'advised': 0.0625,\n",
              " 'al': 0.0625,\n",
              " 'amend': 0.0625,\n",
              " 'amendments': 0.0625,\n",
              " 'angement': 0.0625,\n",
              " 'assigning': 0.0625,\n",
              " 'compensation': 0.0625,\n",
              " 'copied': 0.0625,\n",
              " 'cost': 0.0625,\n",
              " 'document': 0.0625,\n",
              " 'form': 0.0625,\n",
              " 'fully': 0.0625,\n",
              " 'information': 0.0625,\n",
              " 'partially': 0.0625,\n",
              " 'prepared': 0.0625,\n",
              " 'property': 0.0625,\n",
              " 'provided': 0.0625,\n",
              " 'reason': 0.0625,\n",
              " 'reissue': 0.0625,\n",
              " 'reject': 0.0625,\n",
              " 'rescind': 0.0625,\n",
              " 'reserves': 0.125,\n",
              " 'response': 0.0625,\n",
              " 'responses': 0.0625,\n",
              " 'returned': 0.0625,\n",
              " 'reused': 0.0625,\n",
              " 'right': 0.125,\n",
              " 'thereof': 0.0625,\n",
              " 'whatsoever': 0.0625}"
            ]
          },
          "metadata": {
            "tags": []
          },
          "execution_count": 24
        }
      ]
    },
    {
      "cell_type": "code",
      "metadata": {
        "id": "QfDlAp231WYG",
        "colab_type": "code",
        "colab": {}
      },
      "source": [
        "sentence_list = [ sentence for sentence in docx.sents ]"
      ],
      "execution_count": 0,
      "outputs": []
    },
    {
      "cell_type": "code",
      "metadata": {
        "id": "howS-ovs1Y0G",
        "colab_type": "code",
        "outputId": "60f6269f-0209-4d13-9bd0-7424163f26e6",
        "colab": {
          "base_uri": "https://localhost:8080/",
          "height": 1000
        }
      },
      "source": [
        "[w.text.lower() for t in sentence_list for w in t ]"
      ],
      "execution_count": 26,
      "outputs": [
        {
          "output_type": "execute_result",
          "data": {
            "text/plain": [
              "['1',\n",
              " '\\n \\n \\n \\n \\n \\n \\n \\n \\n',\n",
              " 'request',\n",
              " 'for',\n",
              " 'proposal',\n",
              " '(',\n",
              " 'rfp',\n",
              " ')',\n",
              " '\\n \\n',\n",
              " 'for',\n",
              " '\\n \\n',\n",
              " 'corporate',\n",
              " 'agency',\n",
              " 'arrangement',\n",
              " 'for',\n",
              " '\\n \\n',\n",
              " 'general',\n",
              " 'insurance',\n",
              " 'business',\n",
              " '\\n \\n \\n',\n",
              " 'reference',\n",
              " 'number',\n",
              " '\\n \\n',\n",
              " ':',\n",
              " '  ',\n",
              " 'uco',\n",
              " '/',\n",
              " 'imw',\n",
              " '/',\n",
              " 'rfp/02/2019',\n",
              " '\\n',\n",
              " '-',\n",
              " '\\n',\n",
              " '20',\n",
              " '\\n \\n \\n',\n",
              " 'dated',\n",
              " '\\n \\n',\n",
              " ':',\n",
              " '   \\n',\n",
              " '1',\n",
              " '\\n',\n",
              " '8',\n",
              " '\\n',\n",
              " '/',\n",
              " '\\n',\n",
              " '09',\n",
              " '\\n',\n",
              " '/2019',\n",
              " '\\n \\n \\n \\n',\n",
              " 'the',\n",
              " 'information',\n",
              " 'provided',\n",
              " 'by',\n",
              " 'the',\n",
              " 'bidders',\n",
              " 'in',\n",
              " 'response',\n",
              " 'to',\n",
              " 'this',\n",
              " 'rfp',\n",
              " 'document',\n",
              " 'will',\n",
              " 'become',\n",
              " '\\n',\n",
              " 'the',\n",
              " '\\n \\n',\n",
              " 'property',\n",
              " 'of',\n",
              " 'the',\n",
              " 'bank',\n",
              " 'and',\n",
              " 'will',\n",
              " 'not',\n",
              " 'be',\n",
              " 'returned',\n",
              " '.',\n",
              " 'the',\n",
              " 'bank',\n",
              " 'reserves',\n",
              " 'the',\n",
              " 'right',\n",
              " 'to',\n",
              " 'amend',\n",
              " ',',\n",
              " '\\n',\n",
              " 'rescind',\n",
              " ',',\n",
              " 'reissue',\n",
              " 'this',\n",
              " 'rfp',\n",
              " 'document',\n",
              " 'and',\n",
              " 'all',\n",
              " 'amendments',\n",
              " 'will',\n",
              " 'be',\n",
              " 'advised',\n",
              " 'to',\n",
              " 'the',\n",
              " '\\n\\n',\n",
              " 'the',\n",
              " 'bank',\n",
              " 'al',\n",
              " '\\n',\n",
              " 'so',\n",
              " 'reserves',\n",
              " 'its',\n",
              " 'right',\n",
              " 'to',\n",
              " 'accept',\n",
              " 'or',\n",
              " 'reject',\n",
              " 'any',\n",
              " 'or',\n",
              " 'all',\n",
              " 'the',\n",
              " 'responses',\n",
              " 'to',\n",
              " 'this',\n",
              " 'rfp',\n",
              " '\\n',\n",
              " 'document',\n",
              " 'without',\n",
              " 'assigning',\n",
              " 'any',\n",
              " 'reason',\n",
              " 'whatsoever',\n",
              " 'and',\n",
              " 'without',\n",
              " 'any',\n",
              " 'cost',\n",
              " 'and',\n",
              " '\\n',\n",
              " 'compensation',\n",
              " 'thereof',\n",
              " '.',\n",
              " '\\n \\n',\n",
              " 'this',\n",
              " 'document',\n",
              " 'is',\n",
              " 'prepared',\n",
              " 'by',\n",
              " 'uco',\n",
              " 'bank',\n",
              " 'for',\n",
              " 'implementation',\n",
              " 'of',\n",
              " 'corporate',\n",
              " 'agency',\n",
              " '\\n',\n",
              " 'arr',\n",
              " '\\n',\n",
              " 'angement',\n",
              " 'for',\n",
              " '\\n',\n",
              " 'general',\n",
              " '\\n \\n',\n",
              " 'insurance',\n",
              " 'business',\n",
              " '.',\n",
              " 'it',\n",
              " 'should',\n",
              " 'not',\n",
              " 'be',\n",
              " 'reused',\n",
              " 'or',\n",
              " 'copied',\n",
              " 'or',\n",
              " 'used',\n",
              " '\\n',\n",
              " 'either',\n",
              " 'partially',\n",
              " 'or',\n",
              " 'fully',\n",
              " 'in',\n",
              " 'any',\n",
              " 'form',\n",
              " '.',\n",
              " '\\n \\n \\n \\n \\n',\n",
              " 'uco',\n",
              " 'bank',\n",
              " '\\n \\n',\n",
              " 'head',\n",
              " 'office',\n",
              " ':',\n",
              " '10',\n",
              " ',',\n",
              " 'b',\n",
              " 't',\n",
              " 'm',\n",
              " 'sarani',\n",
              " ',',\n",
              " 'kolkata',\n",
              " '\\n\\n \\n',\n",
              " '700',\n",
              " '001',\n",
              " '\\n \\n',\n",
              " '(',\n",
              " 'state',\n",
              " '\\n',\n",
              " '-',\n",
              " '\\n \\n',\n",
              " 'west',\n",
              " 'bengal',\n",
              " ')',\n",
              " '\\n \\n']"
            ]
          },
          "metadata": {
            "tags": []
          },
          "execution_count": 26
        }
      ]
    },
    {
      "cell_type": "code",
      "metadata": {
        "id": "29V1F0mJ1cN0",
        "colab_type": "code",
        "colab": {}
      },
      "source": [
        "sentence_scores = {}  \n",
        "for sent in sentence_list:  \n",
        "        for word in sent:\n",
        "            if word.text.lower() in word_frequencies.keys():\n",
        "                if len(sent.text.split(' ')) < 30:\n",
        "                    if sent not in sentence_scores.keys():\n",
        "                        sentence_scores[sent] = word_frequencies[word.text.lower()]\n",
        "                    else:\n",
        "                        sentence_scores[sent] += word_frequencies[word.text.lower()]"
      ],
      "execution_count": 0,
      "outputs": []
    },
    {
      "cell_type": "code",
      "metadata": {
        "id": "_Hs54EPG1hzy",
        "colab_type": "code",
        "outputId": "8025e921-9c5e-47a4-9286-42c4b12f4c67",
        "colab": {
          "base_uri": "https://localhost:8080/",
          "height": 1000
        }
      },
      "source": [
        "sentence_scores"
      ],
      "execution_count": 28,
      "outputs": [
        {
          "output_type": "execute_result",
          "data": {
            "text/plain": [
              "{1\n",
              "  \n",
              "  \n",
              "  \n",
              "  \n",
              "  \n",
              "  \n",
              "  \n",
              "  \n",
              " Request for Proposal (RFP)\n",
              "  \n",
              " for\n",
              "  \n",
              " Corporate Agency Arrangement for\n",
              "  \n",
              " General Insurance Business\n",
              "  \n",
              "  \n",
              " Reference Number\n",
              "  \n",
              " :   UCO/IMW/RFP/02/2019\n",
              " -\n",
              " 20\n",
              "  \n",
              "  : 6.5, Dated\n",
              "  \n",
              " :    \n",
              " 1\n",
              " 8\n",
              " /\n",
              " 09: 5.4375, /2019\n",
              "  \n",
              "  \n",
              "  : 0.125, The information provided by the Bidders in response to this RFP Document will become \n",
              " the\n",
              "  \n",
              " property of the Bank and will not be returned.: 2.375, The Bank reserves the right to amend, \n",
              " rescind, reissue this RFP Document and all amendments will be advised to the \n",
              " : 2.1875, This document is prepared by UCO Bank for Implementation of Corporate Agency \n",
              " Arr\n",
              " angement for \n",
              " General\n",
              "  \n",
              " Insurance Business.: 4.1875, It should not be reused or copied or used \n",
              " either partially or fully in any form.\n",
              "  \n",
              "  \n",
              "  \n",
              "  : 1.625, UCO BANK\n",
              "  \n",
              " HEAD OFFICE: 10, B T M Sarani, Kolkata \n",
              " \n",
              "  \n",
              " 700 001\n",
              "  : 2.4375, (State \n",
              " -\n",
              "  \n",
              " West Bengal)\n",
              "  : 2.875}"
            ]
          },
          "metadata": {
            "tags": []
          },
          "execution_count": 28
        }
      ]
    },
    {
      "cell_type": "code",
      "metadata": {
        "id": "gCCS6pe91mAR",
        "colab_type": "code",
        "colab": {}
      },
      "source": [
        ""
      ],
      "execution_count": 0,
      "outputs": []
    }
  ]
}