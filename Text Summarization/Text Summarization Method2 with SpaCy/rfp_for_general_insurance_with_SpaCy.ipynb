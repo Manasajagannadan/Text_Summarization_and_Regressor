{
  "nbformat": 4,
  "nbformat_minor": 0,
  "metadata": {
    "colab": {
      "name": "rfp_for_general_insurance with SpaCy.ipynb",
      "provenance": [],
      "collapsed_sections": []
    },
    "kernelspec": {
      "name": "python3",
      "display_name": "Python 3"
    }
  },
  "cells": [
    {
      "cell_type": "code",
      "metadata": {
        "id": "BMeSienpyCJ7",
        "colab_type": "code",
        "outputId": "5a2893cd-0892-479d-987e-01bc78651fcb",
        "colab": {
          "base_uri": "https://localhost:8080/",
          "height": 360
        }
      },
      "source": [
        "!pip install PyPDF2\n",
        "!pip install docx2txt"
      ],
      "execution_count": 0,
      "outputs": [
        {
          "output_type": "stream",
          "text": [
            "Collecting PyPDF2\n",
            "\u001b[?25l  Downloading https://files.pythonhosted.org/packages/b4/01/68fcc0d43daf4c6bdbc6b33cc3f77bda531c86b174cac56ef0ffdb96faab/PyPDF2-1.26.0.tar.gz (77kB)\n",
            "\r\u001b[K     |████▎                           | 10kB 17.2MB/s eta 0:00:01\r\u001b[K     |████████▌                       | 20kB 3.0MB/s eta 0:00:01\r\u001b[K     |████████████▊                   | 30kB 4.3MB/s eta 0:00:01\r\u001b[K     |█████████████████               | 40kB 2.8MB/s eta 0:00:01\r\u001b[K     |█████████████████████▏          | 51kB 3.5MB/s eta 0:00:01\r\u001b[K     |█████████████████████████▍      | 61kB 4.1MB/s eta 0:00:01\r\u001b[K     |█████████████████████████████▋  | 71kB 4.7MB/s eta 0:00:01\r\u001b[K     |████████████████████████████████| 81kB 3.5MB/s \n",
            "\u001b[?25hBuilding wheels for collected packages: PyPDF2\n",
            "  Building wheel for PyPDF2 (setup.py) ... \u001b[?25l\u001b[?25hdone\n",
            "  Created wheel for PyPDF2: filename=PyPDF2-1.26.0-cp36-none-any.whl size=61085 sha256=e9ea4b34770293446b1f79244be07f3e587dd8ec6fb831810b44640ea5cd966d\n",
            "  Stored in directory: /root/.cache/pip/wheels/53/84/19/35bc977c8bf5f0c23a8a011aa958acd4da4bbd7a229315c1b7\n",
            "Successfully built PyPDF2\n",
            "Installing collected packages: PyPDF2\n",
            "Successfully installed PyPDF2-1.26.0\n",
            "Collecting docx2txt\n",
            "  Downloading https://files.pythonhosted.org/packages/7d/7d/60ee3f2b16d9bfdfa72e8599470a2c1a5b759cb113c6fe1006be28359327/docx2txt-0.8.tar.gz\n",
            "Building wheels for collected packages: docx2txt\n",
            "  Building wheel for docx2txt (setup.py) ... \u001b[?25l\u001b[?25hdone\n",
            "  Created wheel for docx2txt: filename=docx2txt-0.8-cp36-none-any.whl size=3965 sha256=4d6cb744fab4ce52945381c85d83a74192022b712cf2c1bf5bd236e63742f9db\n",
            "  Stored in directory: /root/.cache/pip/wheels/b2/1f/26/a051209bbb77fc6bcfae2bb7e01fa0ff941b82292ab084d596\n",
            "Successfully built docx2txt\n",
            "Installing collected packages: docx2txt\n",
            "Successfully installed docx2txt-0.8\n"
          ],
          "name": "stdout"
        }
      ]
    },
    {
      "cell_type": "code",
      "metadata": {
        "id": "NU2gAmJ0y0LP",
        "colab_type": "code",
        "outputId": "c82a181e-60d8-4251-8fb2-cdea4a765ef7",
        "colab": {
          "base_uri": "https://localhost:8080/",
          "height": 122
        }
      },
      "source": [
        "from google.colab import drive\n",
        "drive.mount('/content/drive')"
      ],
      "execution_count": 0,
      "outputs": [
        {
          "output_type": "stream",
          "text": [
            "Go to this URL in a browser: https://accounts.google.com/o/oauth2/auth?client_id=947318989803-6bn6qk8qdgf4n4g3pfee6491hc0brc4i.apps.googleusercontent.com&redirect_uri=urn%3aietf%3awg%3aoauth%3a2.0%3aoob&response_type=code&scope=email%20https%3a%2f%2fwww.googleapis.com%2fauth%2fdocs.test%20https%3a%2f%2fwww.googleapis.com%2fauth%2fdrive%20https%3a%2f%2fwww.googleapis.com%2fauth%2fdrive.photos.readonly%20https%3a%2f%2fwww.googleapis.com%2fauth%2fpeopleapi.readonly\n",
            "\n",
            "Enter your authorization code:\n",
            "··········\n",
            "Mounted at /content/drive\n"
          ],
          "name": "stdout"
        }
      ]
    },
    {
      "cell_type": "markdown",
      "metadata": {
        "id": "EiLQd7WX5w3P",
        "colab_type": "text"
      },
      "source": [
        "# Install & Import the necessary packages"
      ]
    },
    {
      "cell_type": "code",
      "metadata": {
        "id": "u87U23TRyDWn",
        "colab_type": "code",
        "colab": {}
      },
      "source": [
        "import numpy as np\n",
        "import PyPDF2\n",
        "import docx2txt\n",
        "import sys  "
      ],
      "execution_count": 0,
      "outputs": []
    },
    {
      "cell_type": "code",
      "metadata": {
        "id": "SV2X_ZttyDZX",
        "colab_type": "code",
        "colab": {}
      },
      "source": [
        "import matplotlib.pyplot as plt\n",
        "%matplotlib inline"
      ],
      "execution_count": 0,
      "outputs": []
    },
    {
      "cell_type": "code",
      "metadata": {
        "id": "V1VOy8PmyDdn",
        "colab_type": "code",
        "colab": {}
      },
      "source": [
        "import networkx as nx\n",
        "from nltk.tokenize.punkt import PunktSentenceTokenizer\n",
        "from sklearn.feature_extraction.text import TfidfTransformer, CountVectorizer"
      ],
      "execution_count": 0,
      "outputs": []
    },
    {
      "cell_type": "markdown",
      "metadata": {
        "id": "C1Lr3SXy5nON",
        "colab_type": "text"
      },
      "source": [
        "# Checking the format of the while whether it is in .txt or .pdf"
      ]
    },
    {
      "cell_type": "markdown",
      "metadata": {
        "id": "w1fTRTe65nJd",
        "colab_type": "text"
      },
      "source": [
        ""
      ]
    },
    {
      "cell_type": "code",
      "metadata": {
        "id": "vGjS_iBQyDhb",
        "colab_type": "code",
        "colab": {}
      },
      "source": [
        "def readDoc():\n",
        "    name = '/content/drive/My Drive/work/rfp_for_general_insurance.pdf'\n",
        "    print('You have asked for the document {}'.format(name))\n",
        "    if name.lower().endswith('.txt'):\n",
        "        choice = 1\n",
        "    elif name.lower().endswith('.pdf'):\n",
        "        choice = 2\n",
        "    else:\n",
        "        choice = 3\n",
        "    print(choice)   \n",
        "    if choice == 1:\n",
        "        f = open(name, 'r')\n",
        "        document = f.read()\n",
        "        f.close()\n",
        "    elif choice == 2:\n",
        "        pdfFileObj = open(name, 'rb')\n",
        "        pdfReader = PyPDF2.PdfFileReader(pdfFileObj)\n",
        "        pageObj = pdfReader.getPage(0)\n",
        "        document = pageObj.extractText()\n",
        "        pdfFileObj.close()\n",
        "    else:\n",
        "        print('Failed to load a valid file')\n",
        "        print('Returning an empty string')\n",
        "        document = ''\n",
        "    \n",
        "    print(type(document))\n",
        "    return document"
      ],
      "execution_count": 0,
      "outputs": []
    },
    {
      "cell_type": "code",
      "metadata": {
        "id": "4gn2L-4RyDlG",
        "colab_type": "code",
        "outputId": "192f2df5-cebb-4150-d0e2-3d5d082bffce",
        "colab": {
          "base_uri": "https://localhost:8080/",
          "height": 85
        }
      },
      "source": [
        "document1 = readDoc()\n",
        "print('The length of the file is:', end=' ')\n",
        "print(len(document))"
      ],
      "execution_count": 0,
      "outputs": [
        {
          "output_type": "stream",
          "text": [
            "You have asked for the document /content/drive/My Drive/work/rfp_for_general_insurance.pdf\n",
            "2\n",
            "<class 'str'>\n",
            "The length of the file is: 503\n"
          ],
          "name": "stdout"
        }
      ]
    },
    {
      "cell_type": "code",
      "metadata": {
        "id": "_xJdQhFFyDwx",
        "colab_type": "code",
        "colab": {}
      },
      "source": [
        "def tokenize(document):\n",
        "    doc_tokenizer = PunktSentenceTokenizer()\n",
        "    sentences_list = doc_tokenizer.tokenize(document)\n",
        "    return sentences_list"
      ],
      "execution_count": 0,
      "outputs": []
    },
    {
      "cell_type": "code",
      "metadata": {
        "id": "H8pX4EQZyDzy",
        "colab_type": "code",
        "outputId": "0e50c910-966e-4361-c49c-db184a9e13c7",
        "colab": {
          "base_uri": "https://localhost:8080/",
          "height": 51
        }
      },
      "source": [
        "sentences_list = tokenize(document)\n",
        "print('The size of the list in Bytes is: {}'.format(sys.getsizeof(sentences_list)))\n",
        "print('The size of the item 0 in Bytes is: {}'.format(sys.getsizeof(sentences_list[0])))"
      ],
      "execution_count": 0,
      "outputs": [
        {
          "output_type": "stream",
          "text": [
            "The size of the list in Bytes is: 104\n",
            "The size of the item 0 in Bytes is: 370\n"
          ],
          "name": "stdout"
        }
      ]
    },
    {
      "cell_type": "code",
      "metadata": {
        "id": "3qvGdmFOyDse",
        "colab_type": "code",
        "outputId": "77541f20-2baa-4884-988a-c2594ecab04a",
        "colab": {
          "base_uri": "https://localhost:8080/",
          "height": 34
        }
      },
      "source": [
        "print(type(sentences_list))"
      ],
      "execution_count": 0,
      "outputs": [
        {
          "output_type": "stream",
          "text": [
            "<class 'list'>\n"
          ],
          "name": "stdout"
        }
      ]
    },
    {
      "cell_type": "code",
      "metadata": {
        "id": "ff7KrE-ryDqV",
        "colab_type": "code",
        "outputId": "1b3a266c-7912-415a-d85c-2a7cf78dcd5b",
        "colab": {
          "base_uri": "https://localhost:8080/",
          "height": 34
        }
      },
      "source": [
        "print('The size of the list \"sentences\" is: {}'.format(len(sentences_list)))"
      ],
      "execution_count": 0,
      "outputs": [
        {
          "output_type": "stream",
          "text": [
            "The size of the list \"sentences\" is: 2\n"
          ],
          "name": "stdout"
        }
      ]
    },
    {
      "cell_type": "code",
      "metadata": {
        "id": "Z_-wtdPFyDoc",
        "colab_type": "code",
        "outputId": "e64935ec-27f7-4711-e0ea-7766337c33ce",
        "colab": {
          "base_uri": "https://localhost:8080/",
          "height": 1000
        }
      },
      "source": [
        "for i in sentences_list:\n",
        "    print(i)"
      ],
      "execution_count": 0,
      "outputs": [
        {
          "output_type": "stream",
          "text": [
            " \n",
            "\n",
            "\n",
            "˝y\n",
            " \n",
            "Corporation Bank\n",
            " \n",
            "˙E\n",
            "\n",
            "˙C˙¢˙Ł˝y\n",
            " \n",
            " \n",
            "A Premier Public Sector Bank\n",
            " \n",
            "1\n",
            " \n",
            " \n",
            " \n",
            "Corporate \n",
            "Office: \n",
            "Bancassurance \n",
            "Division \n",
            " \n",
            " \n",
            " \n",
            "Reference No.\n",
            "RFP\n",
            "-\n",
            "01\n",
            "/General/\n",
            "Corporation Bank/Bancassurance\n",
            " \n",
            "Dated\n",
            " \n",
            "14\n",
            "/\n",
            "0\n",
            "2\n",
            "/201\n",
            "7\n",
            " \n",
            " \n",
            " \n",
            "Request for Proposal (RFP)\n",
            " \n",
            " \n",
            " \n",
            "Corporate Agency Arrangement \n",
            " \n",
            "F\n",
            "or \n",
            " \n",
            "General \n",
            "Insurance Business\n",
            " \n",
            "Corporate Office,\n",
            " \n",
            "Mangaladevi Temple Road,\n",
            " \n",
            "Pandeshwar\n",
            " \n",
            "Mangalore \n",
            "\n",
            " \n",
            "575001\n",
            " \n",
            "Phone:\n",
            " \n",
            "0824\n",
            "-\n",
            "2861\n",
            "591\n",
            " \n",
            " \n",
            "Email: bancassurance@corpbank.co.in\n"
          ],
          "name": "stdout"
        }
      ]
    },
    {
      "cell_type": "code",
      "metadata": {
        "id": "pyvs2g-iyDjw",
        "colab_type": "code",
        "colab": {}
      },
      "source": [
        "import spacy"
      ],
      "execution_count": 0,
      "outputs": []
    },
    {
      "cell_type": "code",
      "metadata": {
        "id": "-UqVDETSyDgL",
        "colab_type": "code",
        "colab": {}
      },
      "source": [
        "from spacy.lang.en.stop_words import STOP_WORDS\n",
        "from string import punctuation"
      ],
      "execution_count": 0,
      "outputs": []
    },
    {
      "cell_type": "code",
      "metadata": {
        "id": "LxlguJiMyDcl",
        "colab_type": "code",
        "colab": {}
      },
      "source": [
        "stopwords = list(STOP_WORDS)"
      ],
      "execution_count": 0,
      "outputs": []
    },
    {
      "cell_type": "code",
      "metadata": {
        "id": "doStYuNt1Cpj",
        "colab_type": "code",
        "colab": {}
      },
      "source": [
        "nlp = spacy.load('en')"
      ],
      "execution_count": 0,
      "outputs": []
    },
    {
      "cell_type": "code",
      "metadata": {
        "id": "J8QCXSna1FJ6",
        "colab_type": "code",
        "colab": {}
      },
      "source": [
        "docx = nlp(document)"
      ],
      "execution_count": 0,
      "outputs": []
    },
    {
      "cell_type": "code",
      "metadata": {
        "id": "evbltZEF1Hkr",
        "colab_type": "code",
        "colab": {}
      },
      "source": [
        "mytokens = [token.text for token in docx]"
      ],
      "execution_count": 0,
      "outputs": []
    },
    {
      "cell_type": "code",
      "metadata": {
        "id": "JU_buox81JiF",
        "colab_type": "code",
        "colab": {}
      },
      "source": [
        "# word.text is tokenization in spacy\n",
        "word_frequencies = {}\n",
        "for word in docx:\n",
        "    if word.text not in stopwords:\n",
        "            if word.text not in word_frequencies.keys():\n",
        "                word_frequencies[word.text] = 1\n",
        "            else:\n",
        "                word_frequencies[word.text] += 1"
      ],
      "execution_count": 0,
      "outputs": []
    },
    {
      "cell_type": "code",
      "metadata": {
        "id": "8E5Mhlc51L06",
        "colab_type": "code",
        "outputId": "929ca0c9-9fd1-4d61-d096-f3527e5036ef",
        "colab": {
          "base_uri": "https://localhost:8080/",
          "height": 1000
        }
      },
      "source": [
        "word_frequencies"
      ],
      "execution_count": 0,
      "outputs": [
        {
          "output_type": "execute_result",
          "data": {
            "text/plain": [
              "{'\\n': 18,\n",
              " '\\n\\n': 1,\n",
              " '\\n\\n \\n': 1,\n",
              " '\\n \\n': 13,\n",
              " '\\n \\n \\n': 2,\n",
              " '\\n \\n \\n \\n': 4,\n",
              " '\\n \\n \\n \\n \\n \\n \\n \\n \\n \\n \\n': 1,\n",
              " ' \\n\\n\\n': 1,\n",
              " '(': 1,\n",
              " ')': 1,\n",
              " ',': 2,\n",
              " '-': 2,\n",
              " '.': 1,\n",
              " '/': 2,\n",
              " '/201': 1,\n",
              " '/General/': 1,\n",
              " '0': 1,\n",
              " '01': 1,\n",
              " '0824': 1,\n",
              " '1': 1,\n",
              " '14': 1,\n",
              " '2': 1,\n",
              " '2861': 1,\n",
              " '575001': 1,\n",
              " '591': 1,\n",
              " '7': 1,\n",
              " ':': 3,\n",
              " 'A': 1,\n",
              " 'Agency': 1,\n",
              " 'Arrangement': 1,\n",
              " 'Bancassurance': 2,\n",
              " 'Bank': 3,\n",
              " 'Business': 1,\n",
              " 'Corporate': 3,\n",
              " 'Corporation': 2,\n",
              " 'Dated': 1,\n",
              " 'Division': 1,\n",
              " 'Email': 1,\n",
              " 'F': 1,\n",
              " 'General': 1,\n",
              " 'Insurance': 1,\n",
              " 'Mangaladevi': 1,\n",
              " 'Mangalore': 1,\n",
              " 'No': 1,\n",
              " 'Office': 2,\n",
              " 'Pandeshwar': 1,\n",
              " 'Phone': 1,\n",
              " 'Premier': 1,\n",
              " 'Proposal': 1,\n",
              " 'Public': 1,\n",
              " 'RFP': 2,\n",
              " 'Reference': 1,\n",
              " 'Request': 1,\n",
              " 'Road': 1,\n",
              " 'Sector': 1,\n",
              " 'Temple': 1,\n",
              " 'bancassurance@corpbank.co.in': 1,\n",
              " '˙C˙¢˙Ł˝y': 1,\n",
              " '˙E': 1,\n",
              " '˝y': 1}"
            ]
          },
          "metadata": {
            "tags": []
          },
          "execution_count": 23
        }
      ]
    },
    {
      "cell_type": "code",
      "metadata": {
        "id": "_apFv62M1Nd6",
        "colab_type": "code",
        "colab": {}
      },
      "source": [
        "maximum_frequency = max(word_frequencies.values())"
      ],
      "execution_count": 0,
      "outputs": []
    },
    {
      "cell_type": "code",
      "metadata": {
        "id": "KlmpGizh1RrR",
        "colab_type": "code",
        "colab": {}
      },
      "source": [
        "\n",
        "for word in word_frequencies.keys():  \n",
        "        word_frequencies[word] = (word_frequencies[word]/maximum_frequency)"
      ],
      "execution_count": 0,
      "outputs": []
    },
    {
      "cell_type": "code",
      "metadata": {
        "id": "0RmIp4uc1T4V",
        "colab_type": "code",
        "outputId": "5d47f0dc-0d5c-434d-96d8-33d99d65930f",
        "colab": {
          "base_uri": "https://localhost:8080/",
          "height": 1000
        }
      },
      "source": [
        "word_frequencies"
      ],
      "execution_count": 0,
      "outputs": [
        {
          "output_type": "execute_result",
          "data": {
            "text/plain": [
              "{'\\n': 1.0,\n",
              " '\\n\\n': 0.05555555555555555,\n",
              " '\\n\\n \\n': 0.05555555555555555,\n",
              " '\\n \\n': 0.7222222222222222,\n",
              " '\\n \\n \\n': 0.1111111111111111,\n",
              " '\\n \\n \\n \\n': 0.2222222222222222,\n",
              " '\\n \\n \\n \\n \\n \\n \\n \\n \\n \\n \\n': 0.05555555555555555,\n",
              " ' \\n\\n\\n': 0.05555555555555555,\n",
              " '(': 0.05555555555555555,\n",
              " ')': 0.05555555555555555,\n",
              " ',': 0.1111111111111111,\n",
              " '-': 0.1111111111111111,\n",
              " '.': 0.05555555555555555,\n",
              " '/': 0.1111111111111111,\n",
              " '/201': 0.05555555555555555,\n",
              " '/General/': 0.05555555555555555,\n",
              " '0': 0.05555555555555555,\n",
              " '01': 0.05555555555555555,\n",
              " '0824': 0.05555555555555555,\n",
              " '1': 0.05555555555555555,\n",
              " '14': 0.05555555555555555,\n",
              " '2': 0.05555555555555555,\n",
              " '2861': 0.05555555555555555,\n",
              " '575001': 0.05555555555555555,\n",
              " '591': 0.05555555555555555,\n",
              " '7': 0.05555555555555555,\n",
              " ':': 0.16666666666666666,\n",
              " 'A': 0.05555555555555555,\n",
              " 'Agency': 0.05555555555555555,\n",
              " 'Arrangement': 0.05555555555555555,\n",
              " 'Bancassurance': 0.1111111111111111,\n",
              " 'Bank': 0.16666666666666666,\n",
              " 'Business': 0.05555555555555555,\n",
              " 'Corporate': 0.16666666666666666,\n",
              " 'Corporation': 0.1111111111111111,\n",
              " 'Dated': 0.05555555555555555,\n",
              " 'Division': 0.05555555555555555,\n",
              " 'Email': 0.05555555555555555,\n",
              " 'F': 0.05555555555555555,\n",
              " 'General': 0.05555555555555555,\n",
              " 'Insurance': 0.05555555555555555,\n",
              " 'Mangaladevi': 0.05555555555555555,\n",
              " 'Mangalore': 0.05555555555555555,\n",
              " 'No': 0.05555555555555555,\n",
              " 'Office': 0.1111111111111111,\n",
              " 'Pandeshwar': 0.05555555555555555,\n",
              " 'Phone': 0.05555555555555555,\n",
              " 'Premier': 0.05555555555555555,\n",
              " 'Proposal': 0.05555555555555555,\n",
              " 'Public': 0.05555555555555555,\n",
              " 'RFP': 0.1111111111111111,\n",
              " 'Reference': 0.05555555555555555,\n",
              " 'Request': 0.05555555555555555,\n",
              " 'Road': 0.05555555555555555,\n",
              " 'Sector': 0.05555555555555555,\n",
              " 'Temple': 0.05555555555555555,\n",
              " 'bancassurance@corpbank.co.in': 0.05555555555555555,\n",
              " '˙C˙¢˙Ł˝y': 0.05555555555555555,\n",
              " '˙E': 0.05555555555555555,\n",
              " '˝y': 0.05555555555555555}"
            ]
          },
          "metadata": {
            "tags": []
          },
          "execution_count": 26
        }
      ]
    },
    {
      "cell_type": "code",
      "metadata": {
        "id": "QfDlAp231WYG",
        "colab_type": "code",
        "colab": {}
      },
      "source": [
        "sentence_list = [ sentence for sentence in docx.sents ]"
      ],
      "execution_count": 0,
      "outputs": []
    },
    {
      "cell_type": "code",
      "metadata": {
        "id": "howS-ovs1Y0G",
        "colab_type": "code",
        "outputId": "2d36439a-3544-4acf-fc25-141770c260cd",
        "colab": {
          "base_uri": "https://localhost:8080/",
          "height": 1000
        }
      },
      "source": [
        "[w.text.lower() for t in sentence_list for w in t ]"
      ],
      "execution_count": 0,
      "outputs": [
        {
          "output_type": "execute_result",
          "data": {
            "text/plain": [
              "[' \\n\\n\\n',\n",
              " '˝y',\n",
              " '\\n \\n',\n",
              " 'corporation',\n",
              " 'bank',\n",
              " '\\n \\n',\n",
              " '˙e',\n",
              " '\\n\\n',\n",
              " '˙c˙¢˙ł˝y',\n",
              " '\\n \\n \\n',\n",
              " 'a',\n",
              " 'premier',\n",
              " 'public',\n",
              " 'sector',\n",
              " 'bank',\n",
              " '\\n \\n',\n",
              " '1',\n",
              " '\\n \\n \\n \\n',\n",
              " 'corporate',\n",
              " '\\n',\n",
              " 'office',\n",
              " ':',\n",
              " '\\n',\n",
              " 'bancassurance',\n",
              " '\\n',\n",
              " 'division',\n",
              " '\\n \\n \\n \\n',\n",
              " 'reference',\n",
              " 'no',\n",
              " '.',\n",
              " '\\n',\n",
              " 'rfp',\n",
              " '\\n',\n",
              " '-',\n",
              " '\\n',\n",
              " '01',\n",
              " '\\n',\n",
              " '/general/',\n",
              " '\\n',\n",
              " 'corporation',\n",
              " 'bank',\n",
              " '/',\n",
              " 'bancassurance',\n",
              " '\\n \\n',\n",
              " 'dated',\n",
              " '\\n \\n',\n",
              " '14',\n",
              " '\\n',\n",
              " '/',\n",
              " '\\n',\n",
              " '0',\n",
              " '\\n',\n",
              " '2',\n",
              " '\\n',\n",
              " '/201',\n",
              " '\\n',\n",
              " '7',\n",
              " '\\n \\n \\n \\n',\n",
              " 'request',\n",
              " 'for',\n",
              " 'proposal',\n",
              " '(',\n",
              " 'rfp',\n",
              " ')',\n",
              " '\\n \\n \\n \\n',\n",
              " 'corporate',\n",
              " 'agency',\n",
              " 'arrangement',\n",
              " '\\n \\n',\n",
              " 'f',\n",
              " '\\n',\n",
              " 'or',\n",
              " '\\n \\n',\n",
              " 'general',\n",
              " '\\n',\n",
              " 'insurance',\n",
              " 'business',\n",
              " '\\n \\n',\n",
              " 'corporate',\n",
              " 'office',\n",
              " ',',\n",
              " '\\n \\n',\n",
              " 'mangaladevi',\n",
              " 'temple',\n",
              " 'road',\n",
              " ',',\n",
              " '\\n \\n',\n",
              " 'pandeshwar',\n",
              " '\\n \\n',\n",
              " 'mangalore',\n",
              " '\\n\\n \\n',\n",
              " '575001',\n",
              " '\\n \\n',\n",
              " 'phone',\n",
              " ':',\n",
              " '\\n \\n',\n",
              " '0824',\n",
              " '\\n',\n",
              " '-',\n",
              " '\\n',\n",
              " '2861',\n",
              " '\\n',\n",
              " '591',\n",
              " '\\n \\n \\n',\n",
              " 'email',\n",
              " ':',\n",
              " 'bancassurance@corpbank.co.in',\n",
              " '\\n \\n \\n \\n \\n \\n \\n \\n \\n \\n \\n']"
            ]
          },
          "metadata": {
            "tags": []
          },
          "execution_count": 28
        }
      ]
    },
    {
      "cell_type": "code",
      "metadata": {
        "id": "29V1F0mJ1cN0",
        "colab_type": "code",
        "colab": {}
      },
      "source": [
        "sentence_scores = {}  \n",
        "for sent in sentence_list:  \n",
        "        for word in sent:\n",
        "            if word.text.lower() in word_frequencies.keys():\n",
        "                if len(sent.text.split(' ')) < 30:\n",
        "                    if sent not in sentence_scores.keys():\n",
        "                        sentence_scores[sent] = word_frequencies[word.text.lower()]\n",
        "                    else:\n",
        "                        sentence_scores[sent] += word_frequencies[word.text.lower()]"
      ],
      "execution_count": 0,
      "outputs": []
    },
    {
      "cell_type": "code",
      "metadata": {
        "id": "_Hs54EPG1hzy",
        "colab_type": "code",
        "outputId": "2b6618b7-eddc-4745-e150-8d04b2a8ac72",
        "colab": {
          "base_uri": "https://localhost:8080/",
          "height": 1000
        }
      },
      "source": [
        "sentence_scores"
      ],
      "execution_count": 0,
      "outputs": [
        {
          "output_type": "execute_result",
          "data": {
            "text/plain": [
              "{ \n",
              " \n",
              " \n",
              " ˝y\n",
              "  : 0.8333333333333333, Corporation Bank\n",
              "  : 0.7222222222222222, ˙E\n",
              " : 0.05555555555555555, ˙C˙¢˙Ł˝y\n",
              "  \n",
              "  : 0.1111111111111111, A Premier Public Sector Bank\n",
              "  : 0.7222222222222222, 1\n",
              "  \n",
              "  \n",
              "  : 0.2777777777777778, Corporate \n",
              " Office: \n",
              " Bancassurance \n",
              " Division \n",
              "  \n",
              "  \n",
              "  : 3.3888888888888893, No. : 1.0555555555555556, RFP\n",
              " -\n",
              " 01: 3.1666666666666665, /General/: 1.0, Corporation Bank/Bancassurance\n",
              "  : 0.8333333333333333, Dated\n",
              "  \n",
              " 14\n",
              " /\n",
              " 0\n",
              " 2\n",
              " /201\n",
              " 7\n",
              "  \n",
              "  \n",
              "  \n",
              " Request for Proposal (RFP)\n",
              "  \n",
              "  \n",
              "  : 6.666666666666666, Corporate Agency Arrangement \n",
              "  \n",
              " F\n",
              " or \n",
              "  \n",
              " General \n",
              " Insurance Business\n",
              "  \n",
              " Corporate Office,\n",
              "  \n",
              " Mangaladevi Temple Road,\n",
              "  : 5.833333333333333, Pandeshwar\n",
              "  \n",
              " Mangalore \n",
              " \n",
              "  \n",
              " 575001\n",
              "  : 1.5555555555555556, Phone:\n",
              "  \n",
              " 0824\n",
              " -\n",
              " 2861: 4.111111111111111, 591\n",
              "  \n",
              "  \n",
              " Email: bancassurance@corpbank.co.in\n",
              "  \n",
              "  \n",
              "  \n",
              "  \n",
              "  \n",
              "  \n",
              "  \n",
              "  \n",
              "  \n",
              "  : 0.4444444444444444}"
            ]
          },
          "metadata": {
            "tags": []
          },
          "execution_count": 31
        }
      ]
    },
    {
      "cell_type": "code",
      "metadata": {
        "id": "gCCS6pe91mAR",
        "colab_type": "code",
        "colab": {}
      },
      "source": [
        ""
      ],
      "execution_count": 0,
      "outputs": []
    }
  ]
}