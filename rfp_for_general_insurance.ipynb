{
  "nbformat": 4,
  "nbformat_minor": 0,
  "metadata": {
    "colab": {
      "name": "Copy of Copy of work_company211.ipynb",
      "provenance": [],
      "collapsed_sections": []
    },
    "kernelspec": {
      "name": "python3",
      "display_name": "Python 3"
    }
  },
  "cells": [
    {
      "cell_type": "code",
      "metadata": {
        "id": "NUlJnXccH6k7",
        "colab_type": "code",
        "outputId": "c2b7c11f-4c6a-4ea7-c76f-d43f0b2b836c",
        "colab": {
          "base_uri": "https://localhost:8080/",
          "height": 122
        }
      },
      "source": [
        "from google.colab import drive\n",
        "drive.mount('/content/drive')"
      ],
      "execution_count": 2,
      "outputs": [
        {
          "output_type": "stream",
          "text": [
            "Go to this URL in a browser: https://accounts.google.com/o/oauth2/auth?client_id=947318989803-6bn6qk8qdgf4n4g3pfee6491hc0brc4i.apps.googleusercontent.com&redirect_uri=urn%3aietf%3awg%3aoauth%3a2.0%3aoob&response_type=code&scope=email%20https%3a%2f%2fwww.googleapis.com%2fauth%2fdocs.test%20https%3a%2f%2fwww.googleapis.com%2fauth%2fdrive%20https%3a%2f%2fwww.googleapis.com%2fauth%2fdrive.photos.readonly%20https%3a%2f%2fwww.googleapis.com%2fauth%2fpeopleapi.readonly\n",
            "\n",
            "Enter your authorization code:\n",
            "··········\n",
            "Mounted at /content/drive\n"
          ],
          "name": "stdout"
        }
      ]
    },
    {
      "cell_type": "code",
      "metadata": {
        "id": "ERifsj0zIjBe",
        "colab_type": "code",
        "outputId": "ed0f7adf-69b6-42b8-9ff6-2245ed2ed30b",
        "colab": {
          "base_uri": "https://localhost:8080/",
          "height": 360
        }
      },
      "source": [
        "!pip install PyPDF2\n",
        "!pip install docx2txt"
      ],
      "execution_count": 3,
      "outputs": [
        {
          "output_type": "stream",
          "text": [
            "Collecting PyPDF2\n",
            "\u001b[?25l  Downloading https://files.pythonhosted.org/packages/b4/01/68fcc0d43daf4c6bdbc6b33cc3f77bda531c86b174cac56ef0ffdb96faab/PyPDF2-1.26.0.tar.gz (77kB)\n",
            "\r\u001b[K     |████▎                           | 10kB 20.1MB/s eta 0:00:01\r\u001b[K     |████████▌                       | 20kB 6.3MB/s eta 0:00:01\r\u001b[K     |████████████▊                   | 30kB 7.5MB/s eta 0:00:01\r\u001b[K     |█████████████████               | 40kB 5.5MB/s eta 0:00:01\r\u001b[K     |█████████████████████▏          | 51kB 5.9MB/s eta 0:00:01\r\u001b[K     |█████████████████████████▍      | 61kB 6.9MB/s eta 0:00:01\r\u001b[K     |█████████████████████████████▋  | 71kB 7.7MB/s eta 0:00:01\r\u001b[K     |████████████████████████████████| 81kB 4.7MB/s \n",
            "\u001b[?25hBuilding wheels for collected packages: PyPDF2\n",
            "  Building wheel for PyPDF2 (setup.py) ... \u001b[?25l\u001b[?25hdone\n",
            "  Created wheel for PyPDF2: filename=PyPDF2-1.26.0-cp36-none-any.whl size=61085 sha256=eb49558cb10b07fa5e1e707c882fbbdd5d624cb63f2c6dfb5fa8cab46711b5b3\n",
            "  Stored in directory: /root/.cache/pip/wheels/53/84/19/35bc977c8bf5f0c23a8a011aa958acd4da4bbd7a229315c1b7\n",
            "Successfully built PyPDF2\n",
            "Installing collected packages: PyPDF2\n",
            "Successfully installed PyPDF2-1.26.0\n",
            "Collecting docx2txt\n",
            "  Downloading https://files.pythonhosted.org/packages/7d/7d/60ee3f2b16d9bfdfa72e8599470a2c1a5b759cb113c6fe1006be28359327/docx2txt-0.8.tar.gz\n",
            "Building wheels for collected packages: docx2txt\n",
            "  Building wheel for docx2txt (setup.py) ... \u001b[?25l\u001b[?25hdone\n",
            "  Created wheel for docx2txt: filename=docx2txt-0.8-cp36-none-any.whl size=3965 sha256=af459273ff1fe6be019a45fbc74eaae0cd9bcd89a0a20b6eaa01e404331d459f\n",
            "  Stored in directory: /root/.cache/pip/wheels/b2/1f/26/a051209bbb77fc6bcfae2bb7e01fa0ff941b82292ab084d596\n",
            "Successfully built docx2txt\n",
            "Installing collected packages: docx2txt\n",
            "Successfully installed docx2txt-0.8\n"
          ],
          "name": "stdout"
        }
      ]
    },
    {
      "cell_type": "code",
      "metadata": {
        "id": "zQrxiqLNIC6z",
        "colab_type": "code",
        "colab": {}
      },
      "source": [
        "import numpy as np\n",
        "import PyPDF2\n",
        "import docx2txt\n",
        "import sys"
      ],
      "execution_count": 0,
      "outputs": []
    },
    {
      "cell_type": "code",
      "metadata": {
        "id": "h2VuSkBCIC9x",
        "colab_type": "code",
        "colab": {}
      },
      "source": [
        "import matplotlib.pyplot as plt\n",
        "%matplotlib inline"
      ],
      "execution_count": 0,
      "outputs": []
    },
    {
      "cell_type": "code",
      "metadata": {
        "id": "B-nSVEW4IDFm",
        "colab_type": "code",
        "colab": {}
      },
      "source": [
        "import networkx as nx"
      ],
      "execution_count": 0,
      "outputs": []
    },
    {
      "cell_type": "code",
      "metadata": {
        "id": "BL0WS9m6IDI6",
        "colab_type": "code",
        "colab": {}
      },
      "source": [
        "from nltk.tokenize.punkt import PunktSentenceTokenizer\n",
        "from sklearn.feature_extraction.text import TfidfTransformer, CountVectorizer"
      ],
      "execution_count": 0,
      "outputs": []
    },
    {
      "cell_type": "code",
      "metadata": {
        "id": "S17pm3xeIDD6",
        "colab_type": "code",
        "colab": {}
      },
      "source": [
        "def readDoc():\n",
        "    name = '/content/drive/My Drive/work/rfp_for_general_insurance.pdf'\n",
        "    print('You have asked for the document {}'.format(name))\n",
        "    if name.lower().endswith('.txt'):\n",
        "        choice = 1\n",
        "    elif name.lower().endswith('.pdf'):\n",
        "        choice = 2\n",
        "    else:\n",
        "        choice = 3\n",
        "    print(choice)   \n",
        "    if choice == 1:\n",
        "        f = open(name, 'r')\n",
        "        document = f.read()\n",
        "        f.close()\n",
        "    elif choice == 2:\n",
        "        pdfFileObj = open(name, 'rb')\n",
        "        pdfReader = PyPDF2.PdfFileReader(pdfFileObj)\n",
        "        pageObj = pdfReader.getPage(0)\n",
        "        document = pageObj.extractText()\n",
        "        pdfFileObj.close()\n",
        "    else:\n",
        "        print('Failed to load a valid file')\n",
        "        print('Returning an empty string')\n",
        "        document = ''\n",
        "    \n",
        "    print(type(document))\n",
        "    return document"
      ],
      "execution_count": 0,
      "outputs": []
    },
    {
      "cell_type": "code",
      "metadata": {
        "id": "o99gQ3otPpvg",
        "colab_type": "code",
        "outputId": "f1c79c2a-dc13-441d-98b7-8b7970ab4839",
        "colab": {
          "base_uri": "https://localhost:8080/",
          "height": 85
        }
      },
      "source": [
        "document = readDoc()\n",
        "print('The length of the file is:', end=' ')\n",
        "print(len(document))"
      ],
      "execution_count": 33,
      "outputs": [
        {
          "output_type": "stream",
          "text": [
            "You have asked for the document /content/drive/My Drive/work/rfp_for_general_insurance.pdf\n",
            "2\n",
            "<class 'str'>\n",
            "The length of the file is: 503\n"
          ],
          "name": "stdout"
        }
      ]
    },
    {
      "cell_type": "code",
      "metadata": {
        "id": "kec0mj6ML730",
        "colab_type": "code",
        "colab": {}
      },
      "source": [
        "def tokenize(document):\n",
        "    doc_tokenizer = PunktSentenceTokenizer()\n",
        "    sentences_list = doc_tokenizer.tokenize(document)\n",
        "    return sentences_list"
      ],
      "execution_count": 0,
      "outputs": []
    },
    {
      "cell_type": "code",
      "metadata": {
        "id": "jr22g0ZAMnGk",
        "colab_type": "code",
        "outputId": "86ecb8dc-f96d-4fa8-e337-93bb6c344cfb",
        "colab": {
          "base_uri": "https://localhost:8080/",
          "height": 51
        }
      },
      "source": [
        "sentences_list = tokenize(document)\n",
        "print('The size of the list in Bytes is: {}'.format(sys.getsizeof(sentences_list)))\n",
        "print('The size of the item 0 in Bytes is: {}'.format(sys.getsizeof(sentences_list[0])))"
      ],
      "execution_count": 35,
      "outputs": [
        {
          "output_type": "stream",
          "text": [
            "The size of the list in Bytes is: 104\n",
            "The size of the item 0 in Bytes is: 370\n"
          ],
          "name": "stdout"
        }
      ]
    },
    {
      "cell_type": "code",
      "metadata": {
        "id": "o8KnmzeVMqw4",
        "colab_type": "code",
        "outputId": "6328e08e-5117-4aaa-a168-a26e471a5f4d",
        "colab": {
          "base_uri": "https://localhost:8080/",
          "height": 34
        }
      },
      "source": [
        "print(type(sentences_list))"
      ],
      "execution_count": 36,
      "outputs": [
        {
          "output_type": "stream",
          "text": [
            "<class 'list'>\n"
          ],
          "name": "stdout"
        }
      ]
    },
    {
      "cell_type": "code",
      "metadata": {
        "id": "bTuTMdzSQcKU",
        "colab_type": "code",
        "outputId": "0c66b9b1-5e7a-49c8-9b31-3dc75d24fb70",
        "colab": {
          "base_uri": "https://localhost:8080/",
          "height": 34
        }
      },
      "source": [
        "print('The size of the list \"sentences\" is: {}'.format(len(sentences_list)))"
      ],
      "execution_count": 37,
      "outputs": [
        {
          "output_type": "stream",
          "text": [
            "The size of the list \"sentences\" is: 2\n"
          ],
          "name": "stdout"
        }
      ]
    },
    {
      "cell_type": "code",
      "metadata": {
        "id": "lQxT5l5PQcIr",
        "colab_type": "code",
        "outputId": "41cad99e-36ca-4d39-a9a6-b977b4d6ef5c",
        "colab": {
          "base_uri": "https://localhost:8080/",
          "height": 1000
        }
      },
      "source": [
        "for i in sentences_list:\n",
        "    print(i)"
      ],
      "execution_count": 38,
      "outputs": [
        {
          "output_type": "stream",
          "text": [
            " \n",
            "\n",
            "\n",
            "˝y\n",
            " \n",
            "Corporation Bank\n",
            " \n",
            "˙E\n",
            "\n",
            "˙C˙¢˙Ł˝y\n",
            " \n",
            " \n",
            "A Premier Public Sector Bank\n",
            " \n",
            "1\n",
            " \n",
            " \n",
            " \n",
            "Corporate \n",
            "Office: \n",
            "Bancassurance \n",
            "Division \n",
            " \n",
            " \n",
            " \n",
            "Reference No.\n",
            "RFP\n",
            "-\n",
            "01\n",
            "/General/\n",
            "Corporation Bank/Bancassurance\n",
            " \n",
            "Dated\n",
            " \n",
            "14\n",
            "/\n",
            "0\n",
            "2\n",
            "/201\n",
            "7\n",
            " \n",
            " \n",
            " \n",
            "Request for Proposal (RFP)\n",
            " \n",
            " \n",
            " \n",
            "Corporate Agency Arrangement \n",
            " \n",
            "F\n",
            "or \n",
            " \n",
            "General \n",
            "Insurance Business\n",
            " \n",
            "Corporate Office,\n",
            " \n",
            "Mangaladevi Temple Road,\n",
            " \n",
            "Pandeshwar\n",
            " \n",
            "Mangalore \n",
            "\n",
            " \n",
            "575001\n",
            " \n",
            "Phone:\n",
            " \n",
            "0824\n",
            "-\n",
            "2861\n",
            "591\n",
            " \n",
            " \n",
            "Email: bancassurance@corpbank.co.in\n"
          ],
          "name": "stdout"
        }
      ]
    },
    {
      "cell_type": "code",
      "metadata": {
        "id": "MfgDwUYTRZzZ",
        "colab_type": "code",
        "colab": {}
      },
      "source": [
        "cv = CountVectorizer()\n",
        "cv_matrix = cv.fit_transform(sentences_list)"
      ],
      "execution_count": 0,
      "outputs": []
    },
    {
      "cell_type": "code",
      "metadata": {
        "id": "ihVvw2dZRZxX",
        "colab_type": "code",
        "outputId": "3ab33eaf-0854-44a4-a218-602ff27bf446",
        "colab": {
          "base_uri": "https://localhost:8080/",
          "height": 68
        }
      },
      "source": [
        "cv_demo = CountVectorizer() \n",
        "text_demo = [\"Ashish is good, you are bad\", \"I am not bad\"] \n",
        "res_demo = cv_demo.fit_transform(text_demo)\n",
        "print('Result demo array is {}'.format(res_demo.toarray()))\n",
        "print('Feature list: {}'.format(cv_demo.get_feature_names()))"
      ],
      "execution_count": 40,
      "outputs": [
        {
          "output_type": "stream",
          "text": [
            "Result demo array is [[0 1 1 1 1 1 0 1]\n",
            " [1 0 0 1 0 0 1 0]]\n",
            "Feature list: ['am', 'are', 'ashish', 'bad', 'good', 'is', 'not', 'you']\n"
          ],
          "name": "stdout"
        }
      ]
    },
    {
      "cell_type": "code",
      "metadata": {
        "id": "JIuFZ-jaRZu1",
        "colab_type": "code",
        "outputId": "ebf26bc5-0a85-4fad-c3d7-b4813f46cc8b",
        "colab": {
          "base_uri": "https://localhost:8080/",
          "height": 190
        }
      },
      "source": [
        "print('The data type of bow matrix {}'.format(type(cv_matrix)))\n",
        "print('Shape of the matrix {}'.format(cv_matrix.get_shape))\n",
        "print('Size of the matrix is: {}'.format(sys.getsizeof(cv_matrix)))\n",
        "print(cv.get_feature_names())\n",
        "print(cv_matrix.toarray())"
      ],
      "execution_count": 41,
      "outputs": [
        {
          "output_type": "stream",
          "text": [
            "The data type of bow matrix <class 'scipy.sparse.csr.csr_matrix'>\n",
            "Shape of the matrix <bound method spmatrix.get_shape of <2x39 sparse matrix of type '<class 'numpy.int64'>'\n",
            "\twith 44 stored elements in Compressed Sparse Row format>>\n",
            "Size of the matrix is: 56\n",
            "['01', '0824', '14', '201', '2861', '575001', '591', 'agency', 'arrangement', 'bancassurance', 'bank', 'business', 'co', 'corpbank', 'corporate', 'corporation', 'dated', 'division', 'email', 'for', 'general', 'in', 'insurance', 'mangaladevi', 'mangalore', 'no', 'office', 'or', 'pandeshwar', 'phone', 'premier', 'proposal', 'public', 'reference', 'request', 'rfp', 'road', 'sector', 'temple']\n",
            "[[0 0 0 0 0 0 0 0 0 1 2 0 0 0 1 1 0 1 0 0 0 0 0 0 0 1 1 0 0 0 1 0 1 1 0 0\n",
            "  0 1 0]\n",
            " [1 1 1 1 1 1 1 1 1 2 1 1 1 1 2 1 1 0 1 1 2 1 1 1 1 0 1 1 1 1 0 1 0 0 1 2\n",
            "  1 0 1]]\n"
          ],
          "name": "stdout"
        }
      ]
    },
    {
      "cell_type": "code",
      "metadata": {
        "id": "mHuFmtvuQcFt",
        "colab_type": "code",
        "outputId": "033e3f85-fc80-446f-de00-c443ed22be03",
        "colab": {
          "base_uri": "https://localhost:8080/",
          "height": 255
        }
      },
      "source": [
        "normal_matrix = TfidfTransformer().fit_transform(cv_matrix)\n",
        "print(normal_matrix.toarray())"
      ],
      "execution_count": 42,
      "outputs": [
        {
          "output_type": "stream",
          "text": [
            "[[0.         0.         0.         0.         0.         0.\n",
            "  0.         0.         0.         0.2244388  0.44887761 0.\n",
            "  0.         0.         0.2244388  0.2244388  0.         0.31544091\n",
            "  0.         0.         0.         0.         0.         0.\n",
            "  0.         0.31544091 0.2244388  0.         0.         0.\n",
            "  0.31544091 0.         0.31544091 0.31544091 0.         0.\n",
            "  0.         0.31544091 0.        ]\n",
            " [0.1589733  0.1589733  0.1589733  0.1589733  0.1589733  0.1589733\n",
            "  0.1589733  0.1589733  0.1589733  0.22622163 0.11311081 0.1589733\n",
            "  0.1589733  0.1589733  0.22622163 0.11311081 0.1589733  0.\n",
            "  0.1589733  0.1589733  0.31794661 0.1589733  0.1589733  0.1589733\n",
            "  0.1589733  0.         0.11311081 0.1589733  0.1589733  0.1589733\n",
            "  0.         0.1589733  0.         0.         0.1589733  0.31794661\n",
            "  0.1589733  0.         0.1589733 ]]\n"
          ],
          "name": "stdout"
        }
      ]
    },
    {
      "cell_type": "code",
      "metadata": {
        "id": "aA4FweDuQXgK",
        "colab_type": "code",
        "outputId": "aaeb43fd-f3f0-4e30-825c-211dbc52a1fd",
        "colab": {
          "base_uri": "https://localhost:8080/",
          "height": 51
        }
      },
      "source": [
        "print(normal_matrix.T.toarray)\n",
        "res_graph = normal_matrix * normal_matrix.T"
      ],
      "execution_count": 43,
      "outputs": [
        {
          "output_type": "stream",
          "text": [
            "<bound method _cs_matrix.toarray of <39x2 sparse matrix of type '<class 'numpy.float64'>'\n",
            "\twith 44 stored elements in Compressed Sparse Column format>>\n"
          ],
          "name": "stdout"
        }
      ]
    },
    {
      "cell_type": "code",
      "metadata": {
        "id": "HSVHg8gXSBSt",
        "colab_type": "code",
        "outputId": "4faf14b5-7786-4b5e-8373-f620e7613a8d",
        "colab": {
          "base_uri": "https://localhost:8080/",
          "height": 286
        }
      },
      "source": [
        "plt.spy(res_graph)"
      ],
      "execution_count": 44,
      "outputs": [
        {
          "output_type": "execute_result",
          "data": {
            "text/plain": [
              "<matplotlib.lines.Line2D at 0x7f3764e895f8>"
            ]
          },
          "metadata": {
            "tags": []
          },
          "execution_count": 44
        },
        {
          "output_type": "display_data",
          "data": {
            "image/png": "[encoded data removed]",
            "text/plain": [
              "<Figure size 432x288 with 1 Axes>"
            ]
          },
          "metadata": {
            "tags": []
          }
        }
      ]
    },
    {
      "cell_type": "code",
      "metadata": {
        "id": "saILYaPzSBxS",
        "colab_type": "code",
        "outputId": "329efa9e-835c-440a-98e8-1940d271b3c3",
        "colab": {
          "base_uri": "https://localhost:8080/",
          "height": 370
        }
      },
      "source": [
        "nx_graph = nx.from_scipy_sparse_matrix(res_graph)\n",
        "nx.draw_circular(nx_graph)\n",
        "print('Number of edges {}'.format(nx_graph.number_of_edges()))\n",
        "print('Number of vertices {}'.format(nx_graph.number_of_nodes()))\n",
        "plt.show()\n",
        "print('The memory used by the graph in Bytes is: {}'.format(sys.getsizeof(nx_graph)))"
      ],
      "execution_count": 45,
      "outputs": [
        {
          "output_type": "stream",
          "text": [
            "Number of edges 3\n",
            "Number of vertices 2\n"
          ],
          "name": "stdout"
        },
        {
          "output_type": "display_data",
          "data": {
            "image/png": "[encoded data removed]",
            "text/plain": [
              "<Figure size 432x288 with 1 Axes>"
            ]
          },
          "metadata": {
            "tags": []
          }
        },
        {
          "output_type": "stream",
          "text": [
            "The memory used by the graph in Bytes is: 56\n"
          ],
          "name": "stdout"
        }
      ]
    },
    {
      "cell_type": "code",
      "metadata": {
        "id": "aArYEbqwSGCq",
        "colab_type": "code",
        "outputId": "05c4b390-8d67-4042-c864-f01271668b3c",
        "colab": {
          "base_uri": "https://localhost:8080/",
          "height": 85
        }
      },
      "source": [
        "\n",
        "# ranks is a dictionary with key=node(sentences) and value=textrank (the rank of each of the sentences)\n",
        "ranks = nx.pagerank(nx_graph)\n",
        "\n",
        "# analyse the data type of ranks\n",
        "print(type(ranks))\n",
        "print('The size used by the dictionary in Bytes is: {}'.format(sys.getsizeof(ranks)))\n",
        "\n",
        "# print the dictionary\n",
        "for i in ranks:\n",
        "    print(i, ranks[i])"
      ],
      "execution_count": 46,
      "outputs": [
        {
          "output_type": "stream",
          "text": [
            "<class 'dict'>\n",
            "The size used by the dictionary in Bytes is: 240\n",
            "0 0.49999999999999994\n",
            "1 0.49999999999999994\n"
          ],
          "name": "stdout"
        }
      ]
    },
    {
      "cell_type": "code",
      "metadata": {
        "id": "A266fY7HSJlV",
        "colab_type": "code",
        "colab": {}
      },
      "source": [
        "sentence_array = sorted(((ranks[i], s) for i, s in enumerate(sentences_list)), reverse=True)\n",
        "sentence_array = np.asarray(sentence_array)"
      ],
      "execution_count": 0,
      "outputs": []
    },
    {
      "cell_type": "code",
      "metadata": {
        "id": "mBGc19f9SM2G",
        "colab_type": "code",
        "colab": {}
      },
      "source": [
        "rank_max = float(sentence_array[0][0])\n",
        "rank_min = float(sentence_array[len(sentence_array) - 1][0])"
      ],
      "execution_count": 0,
      "outputs": []
    },
    {
      "cell_type": "code",
      "metadata": {
        "id": "gPAtoRuWSO4b",
        "colab_type": "code",
        "outputId": "3692b469-92cf-4a46-bd16-d4137e918565",
        "colab": {
          "base_uri": "https://localhost:8080/",
          "height": 51
        }
      },
      "source": [
        "print(rank_max)\n",
        "print(rank_min)"
      ],
      "execution_count": 49,
      "outputs": [
        {
          "output_type": "stream",
          "text": [
            "0.49999999999999994\n",
            "0.49999999999999994\n"
          ],
          "name": "stdout"
        }
      ]
    },
    {
      "cell_type": "code",
      "metadata": {
        "id": "8kYs-nLGSQle",
        "colab_type": "code",
        "outputId": "cc47dcc0-39e9-4f14-ebec-15bd0d7fcff2",
        "colab": {
          "base_uri": "https://localhost:8080/",
          "height": 34
        }
      },
      "source": [
        "temp_array = []\n",
        "\n",
        "# if all sentences have equal ranks, means they are all the same\n",
        "# taking any sentence will give the summary, say the first sentence\n",
        "flag = 0\n",
        "if rank_max - rank_min == 0:\n",
        "    temp_array.append(0)\n",
        "    flag = 1\n",
        "\n",
        "# If the sentence has different ranks\n",
        "if flag != 1:\n",
        "    for i in range(0, len(sentence_array)):\n",
        "        temp_array.append((float(sentence_array[i][0]) - rank_min) / (rank_max - rank_min))\n",
        "\n",
        "print(len(temp_array))"
      ],
      "execution_count": 50,
      "outputs": [
        {
          "output_type": "stream",
          "text": [
            "1\n"
          ],
          "name": "stdout"
        }
      ]
    },
    {
      "cell_type": "code",
      "metadata": {
        "id": "KyKolSirSTx2",
        "colab_type": "code",
        "colab": {}
      },
      "source": [
        "threshold = (sum(temp_array) / len(temp_array)) + 0.2"
      ],
      "execution_count": 0,
      "outputs": []
    },
    {
      "cell_type": "code",
      "metadata": {
        "id": "XAdzngGSSV4d",
        "colab_type": "code",
        "colab": {}
      },
      "source": [
        "sentence_list = []\n",
        "if len(temp_array) > 1:\n",
        "    for i in range(0, len(temp_array)):\n",
        "        if temp_array[i] > threshold:\n",
        "                sentence_list.append(sentence_array[i][1])\n",
        "else:\n",
        "    sentence_list.append(sentence_array[0][1])"
      ],
      "execution_count": 0,
      "outputs": []
    },
    {
      "cell_type": "code",
      "metadata": {
        "id": "8K7FOS3WSXs0",
        "colab_type": "code",
        "colab": {}
      },
      "source": [
        "model = sentence_list"
      ],
      "execution_count": 0,
      "outputs": []
    },
    {
      "cell_type": "code",
      "metadata": {
        "id": "_sKV4-C_SZuY",
        "colab_type": "code",
        "outputId": "84fe0937-c886-46e0-bef7-4ba952db8939",
        "colab": {
          "base_uri": "https://localhost:8080/",
          "height": 867
        }
      },
      "source": [
        "summary = \" \".join(str(x) for x in sentence_list)\n",
        "print(summary)\n",
        "# save the data in another file, names sum.txt\n",
        "f = open('final3.txt', 'a+')\n",
        "#print(type(f))\n",
        "f.write('\\n')\n",
        "f.write(summary)\n",
        "f.close"
      ],
      "execution_count": 54,
      "outputs": [
        {
          "output_type": "stream",
          "text": [
            "RFP\n",
            "-\n",
            "01\n",
            "/General/\n",
            "Corporation Bank/Bancassurance\n",
            " \n",
            "Dated\n",
            " \n",
            "14\n",
            "/\n",
            "0\n",
            "2\n",
            "/201\n",
            "7\n",
            " \n",
            " \n",
            " \n",
            "Request for Proposal (RFP)\n",
            " \n",
            " \n",
            " \n",
            "Corporate Agency Arrangement \n",
            " \n",
            "F\n",
            "or \n",
            " \n",
            "General \n",
            "Insurance Business\n",
            " \n",
            "Corporate Office,\n",
            " \n",
            "Mangaladevi Temple Road,\n",
            " \n",
            "Pandeshwar\n",
            " \n",
            "Mangalore \n",
            "\n",
            " \n",
            "575001\n",
            " \n",
            "Phone:\n",
            " \n",
            "0824\n",
            "-\n",
            "2861\n",
            "591\n",
            " \n",
            " \n",
            "Email: bancassurance@corpbank.co.in\n"
          ],
          "name": "stdout"
        },
        {
          "output_type": "execute_result",
          "data": {
            "text/plain": [
              "<function TextIOWrapper.close>"
            ]
          },
          "metadata": {
            "tags": []
          },
          "execution_count": 54
        }
      ]
    },
    {
      "cell_type": "code",
      "metadata": {
        "id": "wlRmPppzSb7s",
        "colab_type": "code",
        "outputId": "a1c664b9-0476-452c-aa81-6d37eefc5816",
        "colab": {
          "base_uri": "https://localhost:8080/",
          "height": 850
        }
      },
      "source": [
        "for lines in sentence_list:\n",
        "    print(lines)"
      ],
      "execution_count": 55,
      "outputs": [
        {
          "output_type": "stream",
          "text": [
            "RFP\n",
            "-\n",
            "01\n",
            "/General/\n",
            "Corporation Bank/Bancassurance\n",
            " \n",
            "Dated\n",
            " \n",
            "14\n",
            "/\n",
            "0\n",
            "2\n",
            "/201\n",
            "7\n",
            " \n",
            " \n",
            " \n",
            "Request for Proposal (RFP)\n",
            " \n",
            " \n",
            " \n",
            "Corporate Agency Arrangement \n",
            " \n",
            "F\n",
            "or \n",
            " \n",
            "General \n",
            "Insurance Business\n",
            " \n",
            "Corporate Office,\n",
            " \n",
            "Mangaladevi Temple Road,\n",
            " \n",
            "Pandeshwar\n",
            " \n",
            "Mangalore \n",
            "\n",
            " \n",
            "575001\n",
            " \n",
            "Phone:\n",
            " \n",
            "0824\n",
            "-\n",
            "2861\n",
            "591\n",
            " \n",
            " \n",
            "Email: bancassurance@corpbank.co.in\n"
          ],
          "name": "stdout"
        }
      ]
    },
    {
      "cell_type": "code",
      "metadata": {
        "id": "Un7j6rewSfYZ",
        "colab_type": "code",
        "colab": {}
      },
      "source": [
        ""
      ],
      "execution_count": 0,
      "outputs": []
    }
  ]
}